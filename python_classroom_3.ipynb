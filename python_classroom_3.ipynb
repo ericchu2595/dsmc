{
  "nbformat": 4,
  "nbformat_minor": 0,
  "metadata": {
    "colab": {
      "name": "python_classroom 3.ipynb",
      "provenance": [],
      "collapsed_sections": [],
      "authorship_tag": "ABX9TyOMYpsYW3EcGCSF3U1nt/Sk",
      "include_colab_link": true
    },
    "kernelspec": {
      "name": "python3",
      "display_name": "Python 3"
    }
  },
  "cells": [
    {
      "cell_type": "markdown",
      "metadata": {
        "id": "view-in-github",
        "colab_type": "text"
      },
      "source": [
        "<a href=\"https://colab.research.google.com/github/ericchu2595/dsmc/blob/master/python_classroom_3.ipynb\" target=\"_parent\"><img src=\"https://colab.research.google.com/assets/colab-badge.svg\" alt=\"Open In Colab\"/></a>"
      ]
    },
    {
      "cell_type": "code",
      "metadata": {
        "colab": {
          "base_uri": "https://localhost:8080/"
        },
        "id": "Fd0kYDOhWo_5",
        "outputId": "31975ced-8917-44e9-9352-24a9b9e442d3"
      },
      "source": [
        "for x in 'cuny':\r\n",
        "  print(x)"
      ],
      "execution_count": 1,
      "outputs": [
        {
          "output_type": "stream",
          "text": [
            "c\n",
            "u\n",
            "n\n",
            "y\n"
          ],
          "name": "stdout"
        }
      ]
    },
    {
      "cell_type": "code",
      "metadata": {
        "colab": {
          "base_uri": "https://localhost:8080/"
        },
        "id": "V2BL34IXWwCV",
        "outputId": "24a45aa2-a9d7-46f6-e61c-8ac5f6a72eab"
      },
      "source": [
        "family = ['family1', 'family2', 'family3', 'family4', 'family5', 'family6', 'family7', 'family8', 'family9', 'family10', 'family11', 'family12','family13','family14','family15','family16','family17','family18','family19','family20']\r\n",
        "for name in family:\r\n",
        "  print('Hello' , name + '!', 'I hope you are doing well today.')"
      ],
      "execution_count": 15,
      "outputs": [
        {
          "output_type": "stream",
          "text": [
            "Hello family1! I hope you are doing well today.\n",
            "Hello family2! I hope you are doing well today.\n",
            "Hello family3! I hope you are doing well today.\n",
            "Hello family4! I hope you are doing well today.\n",
            "Hello family5! I hope you are doing well today.\n",
            "Hello family6! I hope you are doing well today.\n",
            "Hello family7! I hope you are doing well today.\n",
            "Hello family8! I hope you are doing well today.\n",
            "Hello family9! I hope you are doing well today.\n",
            "Hello family10! I hope you are doing well today.\n",
            "Hello family11! I hope you are doing well today.\n",
            "Hello family12! I hope you are doing well today.\n",
            "Hello family13! I hope you are doing well today.\n",
            "Hello family14! I hope you are doing well today.\n",
            "Hello family15! I hope you are doing well today.\n",
            "Hello family16! I hope you are doing well today.\n",
            "Hello family17! I hope you are doing well today.\n",
            "Hello family18! I hope you are doing well today.\n",
            "Hello family19! I hope you are doing well today.\n",
            "Hello family20! I hope you are doing well today.\n"
          ],
          "name": "stdout"
        }
      ]
    },
    {
      "cell_type": "code",
      "metadata": {
        "colab": {
          "base_uri": "https://localhost:8080/"
        },
        "id": "Pd2mUutAYIU5",
        "outputId": "1867acc0-88ad-45a3-fe56-3397992f19b8"
      },
      "source": [
        "for num in range (1,10):\r\n",
        "  print(num)"
      ],
      "execution_count": 16,
      "outputs": [
        {
          "output_type": "stream",
          "text": [
            "1\n",
            "2\n",
            "3\n",
            "4\n",
            "5\n",
            "6\n",
            "7\n",
            "8\n",
            "9\n"
          ],
          "name": "stdout"
        }
      ]
    },
    {
      "cell_type": "code",
      "metadata": {
        "id": "cs0tal0XcgJy"
      },
      "source": [
        ""
      ],
      "execution_count": null,
      "outputs": []
    }
  ]
}