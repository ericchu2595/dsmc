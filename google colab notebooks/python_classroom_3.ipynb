{
  "nbformat": 4,
  "nbformat_minor": 0,
  "metadata": {
    "colab": {
      "name": "python_classroom 3.ipynb",
      "provenance": [],
      "collapsed_sections": [],
      "authorship_tag": "ABX9TyNqbbfSf/3FYNAdDXTkaktR",
      "include_colab_link": true
    },
    "kernelspec": {
      "name": "python3",
      "display_name": "Python 3"
    }
  },
  "cells": [
    {
      "cell_type": "markdown",
      "metadata": {
        "id": "view-in-github",
        "colab_type": "text"
      },
      "source": [
        "<a href=\"https://colab.research.google.com/github/ericchu2595/dsmc/blob/master/python_classroom_3.ipynb\" target=\"_parent\"><img src=\"https://colab.research.google.com/assets/colab-badge.svg\" alt=\"Open In Colab\"/></a>"
      ]
    },
    {
      "cell_type": "code",
      "metadata": {
        "colab": {
          "base_uri": "https://localhost:8080/"
        },
        "id": "Fd0kYDOhWo_5",
        "outputId": "31975ced-8917-44e9-9352-24a9b9e442d3"
      },
      "source": [
        "for x in 'cuny':\r\n",
        "  print(x)"
      ],
      "execution_count": 1,
      "outputs": [
        {
          "output_type": "stream",
          "text": [
            "c\n",
            "u\n",
            "n\n",
            "y\n"
          ],
          "name": "stdout"
        }
      ]
    },
    {
      "cell_type": "code",
      "metadata": {
        "colab": {
          "base_uri": "https://localhost:8080/"
        },
        "id": "V2BL34IXWwCV",
        "outputId": "24a45aa2-a9d7-46f6-e61c-8ac5f6a72eab"
      },
      "source": [
        "family = ['family1', 'family2', 'family3', 'family4', 'family5', 'family6', 'family7', 'family8', 'family9', 'family10', 'family11', 'family12','family13','family14','family15','family16','family17','family18','family19','family20']\r\n",
        "for name in family:\r\n",
        "  print('Hello' , name + '!', 'I hope you are doing well today.')"
      ],
      "execution_count": 15,
      "outputs": [
        {
          "output_type": "stream",
          "text": [
            "Hello family1! I hope you are doing well today.\n",
            "Hello family2! I hope you are doing well today.\n",
            "Hello family3! I hope you are doing well today.\n",
            "Hello family4! I hope you are doing well today.\n",
            "Hello family5! I hope you are doing well today.\n",
            "Hello family6! I hope you are doing well today.\n",
            "Hello family7! I hope you are doing well today.\n",
            "Hello family8! I hope you are doing well today.\n",
            "Hello family9! I hope you are doing well today.\n",
            "Hello family10! I hope you are doing well today.\n",
            "Hello family11! I hope you are doing well today.\n",
            "Hello family12! I hope you are doing well today.\n",
            "Hello family13! I hope you are doing well today.\n",
            "Hello family14! I hope you are doing well today.\n",
            "Hello family15! I hope you are doing well today.\n",
            "Hello family16! I hope you are doing well today.\n",
            "Hello family17! I hope you are doing well today.\n",
            "Hello family18! I hope you are doing well today.\n",
            "Hello family19! I hope you are doing well today.\n",
            "Hello family20! I hope you are doing well today.\n"
          ],
          "name": "stdout"
        }
      ]
    },
    {
      "cell_type": "code",
      "metadata": {
        "colab": {
          "base_uri": "https://localhost:8080/"
        },
        "id": "Pd2mUutAYIU5",
        "outputId": "1867acc0-88ad-45a3-fe56-3397992f19b8"
      },
      "source": [
        "for num in range (1,10):\r\n",
        "  print(num)"
      ],
      "execution_count": 16,
      "outputs": [
        {
          "output_type": "stream",
          "text": [
            "1\n",
            "2\n",
            "3\n",
            "4\n",
            "5\n",
            "6\n",
            "7\n",
            "8\n",
            "9\n"
          ],
          "name": "stdout"
        }
      ]
    },
    {
      "cell_type": "code",
      "metadata": {
        "colab": {
          "base_uri": "https://localhost:8080/"
        },
        "id": "cs0tal0XcgJy",
        "outputId": "a743295f-fbd4-4ad4-de65-67b8f4016e43"
      },
      "source": [
        "numbers = list(range(1,11))\r\n",
        "print(numbers)"
      ],
      "execution_count": 17,
      "outputs": [
        {
          "output_type": "stream",
          "text": [
            "[1, 2, 3, 4, 5, 6, 7, 8, 9, 10]\n"
          ],
          "name": "stdout"
        }
      ]
    },
    {
      "cell_type": "code",
      "metadata": {
        "colab": {
          "base_uri": "https://localhost:8080/"
        },
        "id": "ibFSk2wrdJJs",
        "outputId": "ecfa128c-b3ce-4c37-a472-4a5cce1b7b59"
      },
      "source": [
        "numbers = list(range(0,11, 2))\r\n",
        "print(numbers)"
      ],
      "execution_count": 19,
      "outputs": [
        {
          "output_type": "stream",
          "text": [
            "[0, 2, 4, 6, 8, 10]\n"
          ],
          "name": "stdout"
        }
      ]
    },
    {
      "cell_type": "markdown",
      "metadata": {
        "id": "Yer7Twm7eCQh"
      },
      "source": [
        "This loop prints numbers that are odd in a range from 1-21."
      ]
    },
    {
      "cell_type": "code",
      "metadata": {
        "colab": {
          "base_uri": "https://localhost:8080/"
        },
        "id": "BX7cy4V6dN_y",
        "outputId": "097adf6e-41d4-4cfc-ca0e-8bb5eddd232d"
      },
      "source": [
        "odd_number = []\r\n",
        "\r\n",
        "for num in list(range(0,22)):\r\n",
        "  if num % 2 != 0:\r\n",
        "    odd_number.append(num)\r\n",
        "print(odd_number)"
      ],
      "execution_count": 30,
      "outputs": [
        {
          "output_type": "stream",
          "text": [
            "[1, 3, 5, 7, 9, 11, 13, 15, 17, 19, 21]\n"
          ],
          "name": "stdout"
        }
      ]
    },
    {
      "cell_type": "code",
      "metadata": {
        "colab": {
          "base_uri": "https://localhost:8080/"
        },
        "id": "_9t11Tdfdhi6",
        "outputId": "d57eb905-16b0-4b1c-ab82-f5360785525b"
      },
      "source": [
        "# take user input and if the number is either odd or even\r\n",
        "\r\n",
        "num = int(input('Please enter a number'))\r\n",
        "if num % 2 == 0:\r\n",
        "  print('This number is even!')\r\n",
        "else:\r\n",
        "  print('This number is odd!')"
      ],
      "execution_count": 50,
      "outputs": [
        {
          "output_type": "stream",
          "text": [
            "Please enter a number7\n",
            "This number is odd!\n"
          ],
          "name": "stdout"
        }
      ]
    },
    {
      "cell_type": "markdown",
      "metadata": {
        "id": "MNoJdKB_i1Nl"
      },
      "source": [
        "Prime number any number thats is only divisible by itself "
      ]
    },
    {
      "cell_type": "code",
      "metadata": {
        "colab": {
          "base_uri": "https://localhost:8080/"
        },
        "id": "CNYUK7S4i6XV",
        "outputId": "e38d5007-5d9b-4e76-8e29-edc98a46a1b5"
      },
      "source": [
        "n=int(input('enter a number greater than 1. '))\r\n",
        "Match=True\r\n",
        "\r\n",
        "for num in range (2,n):\r\n",
        "    n%num\r\n",
        "    if n%num==0:\r\n",
        "        Match=False\r\n",
        "        \r\n",
        "if Match:\r\n",
        "    print('number is prime.')\r\n",
        "\r\n",
        "else:\r\n",
        "    print('number is not prime.')\r\n"
      ],
      "execution_count": 61,
      "outputs": [
        {
          "output_type": "stream",
          "text": [
            "enter a number greater than 1. 10\n",
            "number is not prime.\n"
          ],
          "name": "stdout"
        }
      ]
    },
    {
      "cell_type": "markdown",
      "metadata": {
        "id": "R0l_uJN7iNPt"
      },
      "source": [
        "Formatted string literals\r\n",
        "[Link Here](https://realpython.com/python-f-strings/#f-strings-a-new-and-improved-way-to-format-strings-in-python)\r\n",
        "\r\n"
      ]
    },
    {
      "cell_type": "code",
      "metadata": {
        "colab": {
          "base_uri": "https://localhost:8080/"
        },
        "id": "OPQKbJmdh_g0",
        "outputId": "8841fea1-6471-4336-aaf5-d2d1b968d96c"
      },
      "source": [
        "name = 'eric'\r\n",
        "f'Hello, {name}!'\r\n",
        "\r\n",
        "print('hello', name)"
      ],
      "execution_count": 55,
      "outputs": [
        {
          "output_type": "stream",
          "text": [
            "hello eric\n"
          ],
          "name": "stdout"
        }
      ]
    },
    {
      "cell_type": "code",
      "metadata": {
        "colab": {
          "base_uri": "https://localhost:8080/"
        },
        "id": "Rz9yhrLyiaQ7",
        "outputId": "81c61b84-fc15-419f-df97-c87f252b3623"
      },
      "source": [
        "for num in range(2, 101):\r\n",
        "  if all(num%i !=0 for i in range(2, num)):\r\n",
        "    print(num)"
      ],
      "execution_count": 62,
      "outputs": [
        {
          "output_type": "stream",
          "text": [
            "2\n",
            "3\n",
            "5\n",
            "7\n",
            "11\n",
            "13\n",
            "17\n",
            "19\n",
            "23\n",
            "29\n",
            "31\n",
            "37\n",
            "41\n",
            "43\n",
            "47\n",
            "53\n",
            "59\n",
            "61\n",
            "67\n",
            "71\n",
            "73\n",
            "79\n",
            "83\n",
            "89\n",
            "97\n"
          ],
          "name": "stdout"
        }
      ]
    },
    {
      "cell_type": "code",
      "metadata": {
        "id": "qpH_-fkWu2Xa"
      },
      "source": [
        ""
      ],
      "execution_count": null,
      "outputs": []
    },
    {
      "cell_type": "markdown",
      "metadata": {
        "id": "gIJcjxfLu4-O"
      },
      "source": [
        "Multiple line comments\r\n",
        "\"\"\""
      ]
    },
    {
      "cell_type": "markdown",
      "metadata": {
        "id": "9qf35Hskwitj"
      },
      "source": [
        "Make 10 slices for the Family List"
      ]
    },
    {
      "cell_type": "code",
      "metadata": {
        "colab": {
          "base_uri": "https://localhost:8080/"
        },
        "id": "OZ81Z4HKvAYn",
        "outputId": "2c702652-f0e4-4cf2-e4c7-27bf4ac07d7d"
      },
      "source": [
        "family = ['family1', 'family2', 'family3', 'family4', 'family5', 'family6', 'family7', 'family8', 'family9', 'family10', 'family11', 'family12','family13','family14','family15','family16','family17','family18','family19','family20']\r\n",
        "print(family[0:3])\r\n",
        "print(family[:3])\r\n",
        "print(family[3:])\r\n",
        "print(family[1:3])\r\n",
        "print(family[2:3])\r\n",
        "print(family[0:15])\r\n",
        "print(family[5:9])\r\n",
        "print(family[2:12])\r\n",
        "print(family[5:7])\r\n",
        "print(family[8:])"
      ],
      "execution_count": 68,
      "outputs": [
        {
          "output_type": "stream",
          "text": [
            "['family1', 'family2', 'family3']\n",
            "['family1', 'family2', 'family3']\n",
            "['family4', 'family5', 'family6', 'family7', 'family8', 'family9', 'family10', 'family11', 'family12', 'family13', 'family14', 'family15', 'family16', 'family17', 'family18', 'family19', 'family20']\n",
            "['family2', 'family3']\n",
            "['family3']\n",
            "['family1', 'family2', 'family3', 'family4', 'family5', 'family6', 'family7', 'family8', 'family9', 'family10', 'family11', 'family12', 'family13', 'family14', 'family15']\n",
            "['family6', 'family7', 'family8', 'family9']\n",
            "['family3', 'family4', 'family5', 'family6', 'family7', 'family8', 'family9', 'family10', 'family11', 'family12']\n",
            "['family6', 'family7']\n",
            "['family9', 'family10', 'family11', 'family12', 'family13', 'family14', 'family15', 'family16', 'family17', 'family18', 'family19', 'family20']\n"
          ],
          "name": "stdout"
        }
      ]
    },
    {
      "cell_type": "code",
      "metadata": {
        "id": "ToLzS2F5wboR"
      },
      "source": [
        ""
      ],
      "execution_count": null,
      "outputs": []
    }
  ]
}