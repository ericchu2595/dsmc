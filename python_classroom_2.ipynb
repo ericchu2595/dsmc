{
  "nbformat": 4,
  "nbformat_minor": 0,
  "metadata": {
    "colab": {
      "name": "python_classroom_2.ipynb",
      "provenance": [],
      "collapsed_sections": [],
      "authorship_tag": "ABX9TyMecRTSvfqMZiifFg1/o3QA",
      "include_colab_link": true
    },
    "kernelspec": {
      "name": "python3",
      "display_name": "Python 3"
    }
  },
  "cells": [
    {
      "cell_type": "markdown",
      "metadata": {
        "id": "view-in-github",
        "colab_type": "text"
      },
      "source": [
        "<a href=\"https://colab.research.google.com/github/ericchu2595/dsmc/blob/master/python_classroom_2.ipynb\" target=\"_parent\"><img src=\"https://colab.research.google.com/assets/colab-badge.svg\" alt=\"Open In Colab\"/></a>"
      ]
    },
    {
      "cell_type": "markdown",
      "metadata": {
        "id": "u2Jvln6zbOqM"
      },
      "source": [
        "Using List Variables"
      ]
    },
    {
      "cell_type": "code",
      "metadata": {
        "colab": {
          "base_uri": "https://localhost:8080/"
        },
        "id": "w6vdhsTYbMfp",
        "outputId": "92e950be-a9aa-4ca6-deb2-e61fb87ae8b4"
      },
      "source": [
        "movies = ['star wars', 'star trek', 'lord of the rings', 'avengers', 'movie4']\r\n",
        "message = 'My favorite movie is ' + movies[0].upper() + '!!!'\r\n",
        "print(message)"
      ],
      "execution_count": null,
      "outputs": [
        {
          "output_type": "stream",
          "text": [
            "My favorite movie is STAR WARS!!!\n"
          ],
          "name": "stdout"
        }
      ]
    },
    {
      "cell_type": "code",
      "metadata": {
        "colab": {
          "base_uri": "https://localhost:8080/"
        },
        "id": "z1MIhdoGcBEn",
        "outputId": "b6f78c24-ce7a-4901-ed38-f93af0c9cd32"
      },
      "source": [
        "print(movies[1][3]) # you can index within an index to get the letter. so star trek 3 is r."
      ],
      "execution_count": null,
      "outputs": [
        {
          "output_type": "stream",
          "text": [
            "r\n"
          ],
          "name": "stdout"
        }
      ]
    },
    {
      "cell_type": "code",
      "metadata": {
        "colab": {
          "base_uri": "https://localhost:8080/"
        },
        "id": "u70aPusvcJ8x",
        "outputId": "13cd5869-c3c5-4da3-c5ce-e258bf5b6858"
      },
      "source": [
        "print(movies[-1])"
      ],
      "execution_count": null,
      "outputs": [
        {
          "output_type": "stream",
          "text": [
            "avengers\n"
          ],
          "name": "stdout"
        }
      ]
    },
    {
      "cell_type": "code",
      "metadata": {
        "colab": {
          "base_uri": "https://localhost:8080/"
        },
        "id": "Q38rSxiPd_9j",
        "outputId": "ab748ce5-facb-44dd-e861-c6c1c9d47e41"
      },
      "source": [
        "print(movies[2])"
      ],
      "execution_count": null,
      "outputs": [
        {
          "output_type": "stream",
          "text": [
            "lord of the rings\n"
          ],
          "name": "stdout"
        }
      ]
    },
    {
      "cell_type": "code",
      "metadata": {
        "colab": {
          "base_uri": "https://localhost:8080/"
        },
        "id": "FFvY7XtleDTp",
        "outputId": "544577e3-e790-4aa4-daeb-5b4034c98f92"
      },
      "source": [
        "print(movies[-2][1])"
      ],
      "execution_count": null,
      "outputs": [
        {
          "output_type": "stream",
          "text": [
            "o\n"
          ],
          "name": "stdout"
        }
      ]
    },
    {
      "cell_type": "code",
      "metadata": {
        "colab": {
          "base_uri": "https://localhost:8080/",
          "height": 162
        },
        "id": "uHOtnUcHeHeR",
        "outputId": "ec5fa5a0-30ba-4d93-da81-908a14073422"
      },
      "source": [
        "movies[4] = 'Avatar'"
      ],
      "execution_count": null,
      "outputs": [
        {
          "output_type": "error",
          "ename": "IndexError",
          "evalue": "ignored",
          "traceback": [
            "\u001b[0;31m---------------------------------------------------------------------------\u001b[0m",
            "\u001b[0;31mIndexError\u001b[0m                                Traceback (most recent call last)",
            "\u001b[0;32m<ipython-input-13-24bff25a1ced>\u001b[0m in \u001b[0;36m<module>\u001b[0;34m()\u001b[0m\n\u001b[0;32m----> 1\u001b[0;31m \u001b[0mmovies\u001b[0m\u001b[0;34m[\u001b[0m\u001b[0;36m4\u001b[0m\u001b[0;34m]\u001b[0m \u001b[0;34m=\u001b[0m \u001b[0;34m'Avatar'\u001b[0m\u001b[0;34m\u001b[0m\u001b[0;34m\u001b[0m\u001b[0m\n\u001b[0m",
            "\u001b[0;31mIndexError\u001b[0m: list assignment index out of range"
          ]
        }
      ]
    },
    {
      "cell_type": "code",
      "metadata": {
        "colab": {
          "base_uri": "https://localhost:8080/"
        },
        "id": "nOlDWffqjBLr",
        "outputId": "810d945b-3117-4f81-d267-87ee71d0c7d7"
      },
      "source": [
        "print(movies)"
      ],
      "execution_count": null,
      "outputs": [
        {
          "output_type": "stream",
          "text": [
            "['star wars', 'star trek', 'lord of the rings', 'avengers']\n"
          ],
          "name": "stdout"
        }
      ]
    },
    {
      "cell_type": "code",
      "metadata": {
        "id": "4P0Gt5-Vjdcz"
      },
      "source": [
        "movies.insert(2, 'Birdbox')"
      ],
      "execution_count": null,
      "outputs": []
    },
    {
      "cell_type": "code",
      "metadata": {
        "colab": {
          "base_uri": "https://localhost:8080/"
        },
        "id": "AeZRiEDQjjLb",
        "outputId": "1c224dda-74c7-44a8-c519-c1cc8f57d142"
      },
      "source": [
        "print(movies)"
      ],
      "execution_count": null,
      "outputs": [
        {
          "output_type": "stream",
          "text": [
            "['star wars', 'star trek', 'Birdbox', 'lord of the rings', 'avengers']\n"
          ],
          "name": "stdout"
        }
      ]
    },
    {
      "cell_type": "code",
      "metadata": {
        "id": "gNBLNQkAjksi"
      },
      "source": [
        "movies[1] = 'movie2'"
      ],
      "execution_count": null,
      "outputs": []
    },
    {
      "cell_type": "code",
      "metadata": {
        "colab": {
          "base_uri": "https://localhost:8080/"
        },
        "id": "Bh849_qbjqe6",
        "outputId": "4c2b1a11-5e61-41fe-8a4b-f0ab50bf19ac"
      },
      "source": [
        "print(movies)"
      ],
      "execution_count": null,
      "outputs": [
        {
          "output_type": "stream",
          "text": [
            "['star wars', 'movie2', 'Birdbox', 'lord of the rings', 'avengers']\n"
          ],
          "name": "stdout"
        }
      ]
    },
    {
      "cell_type": "code",
      "metadata": {
        "id": "wshOVVvqjtXC"
      },
      "source": [
        "movies.append('ready player one')"
      ],
      "execution_count": null,
      "outputs": []
    },
    {
      "cell_type": "code",
      "metadata": {
        "colab": {
          "base_uri": "https://localhost:8080/"
        },
        "id": "lk4_Acyhj2Zz",
        "outputId": "afce75b2-380c-4717-a888-4bfed8bd204e"
      },
      "source": [
        "print(movies)"
      ],
      "execution_count": null,
      "outputs": [
        {
          "output_type": "stream",
          "text": [
            "['star wars', 'movie2', 'Birdbox', 'lord of the rings', 'avengers', 'ready player one']\n"
          ],
          "name": "stdout"
        }
      ]
    },
    {
      "cell_type": "markdown",
      "metadata": {
        "id": "64bNpizsv44r"
      },
      "source": [
        "Conditional Statements:\r\n"
      ]
    },
    {
      "cell_type": "code",
      "metadata": {
        "colab": {
          "base_uri": "https://localhost:8080/"
        },
        "id": "2s5Pi9o0j3ir",
        "outputId": "8fc5414c-d54b-435e-c81f-4b0f0ccc3fcc"
      },
      "source": [
        "age = 20\r\n",
        "\r\n",
        "if age <5:\r\n",
        "  print(\"Admission price is free\")\r\n",
        "elif age <18:\r\n",
        "  print(\"Admission is $5\")\r\n",
        "else:\r\n",
        "  print(\"Admission is $10\")"
      ],
      "execution_count": null,
      "outputs": [
        {
          "output_type": "stream",
          "text": [
            "Admission is $10\n"
          ],
          "name": "stdout"
        }
      ]
    },
    {
      "cell_type": "code",
      "metadata": {
        "colab": {
          "base_uri": "https://localhost:8080/"
        },
        "id": "wvdrOhqpvwyQ",
        "outputId": "4eaa2cec-c322-497c-df00-a5b86813ae32"
      },
      "source": [
        "name = input('Enter your name:')\r\n",
        "print(name)"
      ],
      "execution_count": null,
      "outputs": [
        {
          "output_type": "stream",
          "text": [
            "Enter your name:Eric\n",
            "Eric\n"
          ],
          "name": "stdout"
        }
      ]
    },
    {
      "cell_type": "code",
      "metadata": {
        "colab": {
          "base_uri": "https://localhost:8080/"
        },
        "id": "BlaP-0CTxt2_",
        "outputId": "37e949e3-14b3-4006-d6b3-da508b39deb8"
      },
      "source": [
        "if age < 11:\r\n",
        "  print(\"You're in elementary school!\")\r\n",
        "elif age < 14:\r\n",
        "  print(\"You're in middle school!\")\r\n",
        "elif age < 18:\r\n",
        "  print(\"You're in high school!\")\r\n",
        "else:\r\n",
        "  print(\"You're in college, working, or unemployed.\")\r\n"
      ],
      "execution_count": null,
      "outputs": [
        {
          "output_type": "stream",
          "text": [
            "You're in college, working, or unemployed.\n"
          ],
          "name": "stdout"
        }
      ]
    },
    {
      "cell_type": "code",
      "metadata": {
        "colab": {
          "base_uri": "https://localhost:8080/"
        },
        "id": "4sGtAS4byZSm",
        "outputId": "fc1cb31c-e0c5-438b-da2c-611ac1b3cc8c"
      },
      "source": [
        "age = int(input(\"What's your age?\"))"
      ],
      "execution_count": null,
      "outputs": [
        {
          "output_type": "stream",
          "text": [
            "What's your age?30\n"
          ],
          "name": "stdout"
        }
      ]
    },
    {
      "cell_type": "markdown",
      "metadata": {
        "id": "CehccmbcC28M"
      },
      "source": [
        "Multiple Conditions"
      ]
    },
    {
      "cell_type": "code",
      "metadata": {
        "colab": {
          "base_uri": "https://localhost:8080/"
        },
        "id": "JYBHa_BmC3-D",
        "outputId": "79789c15-fcb5-4236-d007-fa9b627a7821"
      },
      "source": [
        "toppings = ['chocolate', 'sprinkles']\r\n",
        "\r\n",
        "if 'chocolate' in toppings:\r\n",
        "  print('adding chocolate')\r\n",
        "if 'sprinkles' in toppings:\r\n",
        "  print('adding sprinkles')\r\n",
        "if 'peanuts' in toppings:\r\n",
        "  print('adding peanuts')"
      ],
      "execution_count": 39,
      "outputs": [
        {
          "output_type": "stream",
          "text": [
            "adding chocolate\n",
            "adding sprinkles\n"
          ],
          "name": "stdout"
        }
      ]
    },
    {
      "cell_type": "code",
      "metadata": {
        "colab": {
          "base_uri": "https://localhost:8080/"
        },
        "id": "5uyes0ExDTiQ",
        "outputId": "80274734-f616-4490-ebcd-1a22fc6865fc"
      },
      "source": [
        "for topping in toppings:\r\n",
        "  if topping == 'chocolate': # comparison operator\r\n",
        "    print('All out of chocolate!')\r\n",
        "  else:\r\n",
        "    print('Adding the following topping! ' + topping )"
      ],
      "execution_count": 42,
      "outputs": [
        {
          "output_type": "stream",
          "text": [
            "All out of chocolate!\n",
            "Adding the following topping! sprinkles\n"
          ],
          "name": "stdout"
        }
      ]
    },
    {
      "cell_type": "code",
      "metadata": {
        "colab": {
          "base_uri": "https://localhost:8080/"
        },
        "id": "mlKxOL2qDs1p",
        "outputId": "9e95f5d2-47bb-481e-e7f8-bff28fa79064"
      },
      "source": [
        "toppings = ['strawberry', 'sprinkles']\r\n",
        "for topping in toppings:\r\n",
        "  if topping != 'chocolate': # comparison operator\r\n",
        "    print('All out of chocolate!')\r\n",
        "  else:\r\n",
        "    print('Adding the following topping! ' + topping )"
      ],
      "execution_count": 45,
      "outputs": [
        {
          "output_type": "stream",
          "text": [
            "All out of chocolate!\n",
            "All out of chocolate!\n"
          ],
          "name": "stdout"
        }
      ]
    },
    {
      "cell_type": "code",
      "metadata": {
        "colab": {
          "base_uri": "https://localhost:8080/"
        },
        "id": "uoNNehYZEEVg",
        "outputId": "9fa30d7f-13af-4981-e1cf-fea2ab10564f"
      },
      "source": [
        "toppings = ['strawberry', 'sprinkles'] # list of toppings\r\n",
        "for topping in toppings:\r\n",
        "  if topping == 'chocolate': # comparison operator\r\n",
        "    print('All out of chocolate!')\r\n",
        "  else:\r\n",
        "    print('Adding the following topping! ' + topping ) # repeat until out of toppings\r\n",
        "\r\n",
        "# if topping is choc, print all out of choc. Since its not choc, we go to else and \r\n",
        "# say adding the following topping twice since its a for loop."
      ],
      "execution_count": 47,
      "outputs": [
        {
          "output_type": "stream",
          "text": [
            "Adding the following topping! strawberry\n",
            "Adding the following topping! sprinkles\n"
          ],
          "name": "stdout"
        }
      ]
    },
    {
      "cell_type": "code",
      "metadata": {
        "id": "tlI382-2EcDI"
      },
      "source": [
        ""
      ],
      "execution_count": null,
      "outputs": []
    }
  ]
}