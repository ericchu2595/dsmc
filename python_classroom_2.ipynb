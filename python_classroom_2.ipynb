{
  "nbformat": 4,
  "nbformat_minor": 0,
  "metadata": {
    "colab": {
      "name": "python_classroom_2.ipynb",
      "provenance": [],
      "authorship_tag": "ABX9TyOT+pao7pxA5cnsSoxx30a/",
      "include_colab_link": true
    },
    "kernelspec": {
      "name": "python3",
      "display_name": "Python 3"
    }
  },
  "cells": [
    {
      "cell_type": "markdown",
      "metadata": {
        "id": "view-in-github",
        "colab_type": "text"
      },
      "source": [
        "<a href=\"https://colab.research.google.com/github/peekachuchu/dsmc/blob/master/python_classroom_2.ipynb\" target=\"_parent\"><img src=\"https://colab.research.google.com/assets/colab-badge.svg\" alt=\"Open In Colab\"/></a>"
      ]
    },
    {
      "cell_type": "markdown",
      "metadata": {
        "id": "u2Jvln6zbOqM"
      },
      "source": [
        "Using List Variables"
      ]
    },
    {
      "cell_type": "code",
      "metadata": {
        "colab": {
          "base_uri": "https://localhost:8080/"
        },
        "id": "w6vdhsTYbMfp",
        "outputId": "92e950be-a9aa-4ca6-deb2-e61fb87ae8b4"
      },
      "source": [
        "movies = ['star wars', 'star trek', 'lord of the rings', 'avengers']\r\n",
        "message = 'My favorite movie is ' + movies[0].upper() + '!!!'\r\n",
        "print(message)"
      ],
      "execution_count": 2,
      "outputs": [
        {
          "output_type": "stream",
          "text": [
            "My favorite movie is STAR WARS!!!\n"
          ],
          "name": "stdout"
        }
      ]
    },
    {
      "cell_type": "code",
      "metadata": {
        "colab": {
          "base_uri": "https://localhost:8080/"
        },
        "id": "z1MIhdoGcBEn",
        "outputId": "b6f78c24-ce7a-4901-ed38-f93af0c9cd32"
      },
      "source": [
        "print(movies[1][3]) # you can index within an index to get the letter. so star trek 3 is r."
      ],
      "execution_count": 4,
      "outputs": [
        {
          "output_type": "stream",
          "text": [
            "r\n"
          ],
          "name": "stdout"
        }
      ]
    },
    {
      "cell_type": "code",
      "metadata": {
        "id": "u70aPusvcJ8x"
      },
      "source": [
        ""
      ],
      "execution_count": null,
      "outputs": []
    }
  ]
}