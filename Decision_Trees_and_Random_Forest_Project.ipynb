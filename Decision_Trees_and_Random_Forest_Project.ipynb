{
  "nbformat": 4,
  "nbformat_minor": 0,
  "metadata": {
    "kernelspec": {
      "display_name": "Python 3",
      "language": "python",
      "name": "python3"
    },
    "language_info": {
      "codemirror_mode": {
        "name": "ipython",
        "version": 3
      },
      "file_extension": ".py",
      "mimetype": "text/x-python",
      "name": "python",
      "nbconvert_exporter": "python",
      "pygments_lexer": "ipython3",
      "version": "3.7.3"
    },
    "colab": {
      "name": "Decision Trees and Random Forest Project.ipynb",
      "provenance": [],
      "collapsed_sections": [
        "0WCSjnoeNE0o",
        "AEoUIQD9NE0q",
        "4PeyF1NYNE0r",
        "VzonG8L2NE0t",
        "sY6qWAZXNE0v"
      ],
      "include_colab_link": true
    }
  },
  "cells": [
    {
      "cell_type": "markdown",
      "metadata": {
        "id": "view-in-github",
        "colab_type": "text"
      },
      "source": [
        "<a href=\"https://colab.research.google.com/github/ericchu2595/dsmc/blob/master/Decision_Trees_and_Random_Forest_Project.ipynb\" target=\"_parent\"><img src=\"https://colab.research.google.com/assets/colab-badge.svg\" alt=\"Open In Colab\"/></a>"
      ]
    },
    {
      "cell_type": "markdown",
      "metadata": {
        "id": "VRt4OPkHNE0F"
      },
      "source": [
        "# Random Forest Project \n",
        "\n",
        "For this project we will be exploring publicly available data from [LendingClub.com](www.lendingclub.com). Lending Club connects people who need money (borrowers) with people who have money (investors). Hopefully, as an investor you would want to invest in people who showed a profile of having a high probability of paying you back. We will try to create a model that will help predict this.\n",
        "\n",
        "Lending club had a [very interesting year in 2016](https://en.wikipedia.org/wiki/Lending_Club#2016), so let's check out some of their data and keep the context in mind. This data is from before they even went public.\n",
        "\n",
        "We will use lending data from 2007-2010 and be trying to classify and predict whether or not the borrower paid back their loan in full. You can download the data from [here](https://www.lendingclub.com/info/download-data.action) or just use the csv already provided. It's recommended you use the csv provided as it has been cleaned of NA values.\n",
        "\n",
        "Here are what the columns represent:\n",
        "* credit.policy: 1 if the customer meets the credit underwriting criteria of LendingClub.com, and 0 otherwise.\n",
        "* purpose: The purpose of the loan (takes values \"credit_card\", \"debt_consolidation\", \"educational\", \"major_purchase\", \"small_business\", and \"all_other\").\n",
        "* int.rate: The interest rate of the loan, as a proportion (a rate of 11% would be stored as 0.11). Borrowers judged by LendingClub.com to be more risky are assigned higher interest rates.\n",
        "* installment: The monthly installments owed by the borrower if the loan is funded.\n",
        "* log.annual.inc: The natural log of the self-reported annual income of the borrower.\n",
        "* dti: The debt-to-income ratio of the borrower (amount of debt divided by annual income).\n",
        "* fico: The FICO credit score of the borrower.\n",
        "* days.with.cr.line: The number of days the borrower has had a credit line.\n",
        "* revol.bal: The borrower's revolving balance (amount unpaid at the end of the credit card billing cycle).\n",
        "* revol.util: The borrower's revolving line utilization rate (the amount of the credit line used relative to total credit available).\n",
        "* inq.last.6mths: The borrower's number of inquiries by creditors in the last 6 months.\n",
        "* delinq.2yrs: The number of times the borrower had been 30+ days past due on a payment in the past 2 years.\n",
        "* pub.rec: The borrower's number of derogatory public records (bankruptcy filings, tax liens, or judgments)."
      ]
    },
    {
      "cell_type": "markdown",
      "metadata": {
        "id": "-6J9FQ2wNE0V"
      },
      "source": [
        "# Import Libraries\n",
        "\n",
        "**Import the usual libraries for pandas and plotting. You can import sklearn later on.**"
      ]
    },
    {
      "cell_type": "code",
      "metadata": {
        "collapsed": true,
        "jupyter": {
          "outputs_hidden": true
        },
        "id": "tbQ07aU7NE0X"
      },
      "source": [
        "import pandas as pd\r\n",
        "import numpy as np\r\n",
        "import matplotlib.pyplot as plt\r\n",
        "import seaborn as sns\r\n",
        "sns.set()\r\n",
        "%matplotlib inline"
      ],
      "execution_count": 7,
      "outputs": []
    },
    {
      "cell_type": "markdown",
      "metadata": {
        "id": "AZ6hceHxNE0Z"
      },
      "source": [
        "## Get the Data\n",
        "\n",
        "** Use pandas to read loan_data.csv as a dataframe called loans.**"
      ]
    },
    {
      "cell_type": "code",
      "metadata": {
        "collapsed": true,
        "jupyter": {
          "outputs_hidden": true
        },
        "id": "0JrBGD1ENE0a"
      },
      "source": [
        "loans = pd.read_csv('/content/drive/MyDrive/Colab Notebooks/Regression/Logistic Regression/data/loan_data.csv')"
      ],
      "execution_count": 28,
      "outputs": []
    },
    {
      "cell_type": "markdown",
      "metadata": {
        "id": "LjND1MyHNE0b"
      },
      "source": [
        "** Check out the info(), head(), and describe() methods on loans.**"
      ]
    },
    {
      "cell_type": "code",
      "metadata": {
        "colab": {
          "base_uri": "https://localhost:8080/"
        },
        "id": "Yz_ZoFW9QeYq",
        "outputId": "6cf8efac-6fcb-4271-8e12-2bff5da9ce2e"
      },
      "source": [
        "loans.info()"
      ],
      "execution_count": 29,
      "outputs": [
        {
          "output_type": "stream",
          "text": [
            "<class 'pandas.core.frame.DataFrame'>\n",
            "RangeIndex: 9578 entries, 0 to 9577\n",
            "Data columns (total 14 columns):\n",
            " #   Column             Non-Null Count  Dtype  \n",
            "---  ------             --------------  -----  \n",
            " 0   credit.policy      9578 non-null   int64  \n",
            " 1   purpose            9578 non-null   object \n",
            " 2   int.rate           9578 non-null   float64\n",
            " 3   installment        9578 non-null   float64\n",
            " 4   log.annual.inc     9578 non-null   float64\n",
            " 5   dti                9578 non-null   float64\n",
            " 6   fico               9578 non-null   int64  \n",
            " 7   days.with.cr.line  9578 non-null   float64\n",
            " 8   revol.bal          9578 non-null   int64  \n",
            " 9   revol.util         9578 non-null   float64\n",
            " 10  inq.last.6mths     9578 non-null   int64  \n",
            " 11  delinq.2yrs        9578 non-null   int64  \n",
            " 12  pub.rec            9578 non-null   int64  \n",
            " 13  not.fully.paid     9578 non-null   int64  \n",
            "dtypes: float64(6), int64(7), object(1)\n",
            "memory usage: 1.0+ MB\n"
          ],
          "name": "stdout"
        }
      ]
    },
    {
      "cell_type": "code",
      "metadata": {
        "jupyter": {
          "outputs_hidden": false
        },
        "id": "zl7zRyyUNE0f",
        "colab": {
          "base_uri": "https://localhost:8080/",
          "height": 317
        },
        "outputId": "77628095-8b59-4389-fb2e-5c683ec2f6e4"
      },
      "source": [
        "loans.describe()"
      ],
      "execution_count": 30,
      "outputs": [
        {
          "output_type": "execute_result",
          "data": {
            "text/html": [
              "<div>\n",
              "<style scoped>\n",
              "    .dataframe tbody tr th:only-of-type {\n",
              "        vertical-align: middle;\n",
              "    }\n",
              "\n",
              "    .dataframe tbody tr th {\n",
              "        vertical-align: top;\n",
              "    }\n",
              "\n",
              "    .dataframe thead th {\n",
              "        text-align: right;\n",
              "    }\n",
              "</style>\n",
              "<table border=\"1\" class=\"dataframe\">\n",
              "  <thead>\n",
              "    <tr style=\"text-align: right;\">\n",
              "      <th></th>\n",
              "      <th>credit.policy</th>\n",
              "      <th>int.rate</th>\n",
              "      <th>installment</th>\n",
              "      <th>log.annual.inc</th>\n",
              "      <th>dti</th>\n",
              "      <th>fico</th>\n",
              "      <th>days.with.cr.line</th>\n",
              "      <th>revol.bal</th>\n",
              "      <th>revol.util</th>\n",
              "      <th>inq.last.6mths</th>\n",
              "      <th>delinq.2yrs</th>\n",
              "      <th>pub.rec</th>\n",
              "      <th>not.fully.paid</th>\n",
              "    </tr>\n",
              "  </thead>\n",
              "  <tbody>\n",
              "    <tr>\n",
              "      <th>count</th>\n",
              "      <td>9578.000000</td>\n",
              "      <td>9578.000000</td>\n",
              "      <td>9578.000000</td>\n",
              "      <td>9578.000000</td>\n",
              "      <td>9578.000000</td>\n",
              "      <td>9578.000000</td>\n",
              "      <td>9578.000000</td>\n",
              "      <td>9.578000e+03</td>\n",
              "      <td>9578.000000</td>\n",
              "      <td>9578.000000</td>\n",
              "      <td>9578.000000</td>\n",
              "      <td>9578.000000</td>\n",
              "      <td>9578.000000</td>\n",
              "    </tr>\n",
              "    <tr>\n",
              "      <th>mean</th>\n",
              "      <td>0.804970</td>\n",
              "      <td>0.122640</td>\n",
              "      <td>319.089413</td>\n",
              "      <td>10.932117</td>\n",
              "      <td>12.606679</td>\n",
              "      <td>710.846314</td>\n",
              "      <td>4560.767197</td>\n",
              "      <td>1.691396e+04</td>\n",
              "      <td>46.799236</td>\n",
              "      <td>1.577469</td>\n",
              "      <td>0.163708</td>\n",
              "      <td>0.062122</td>\n",
              "      <td>0.160054</td>\n",
              "    </tr>\n",
              "    <tr>\n",
              "      <th>std</th>\n",
              "      <td>0.396245</td>\n",
              "      <td>0.026847</td>\n",
              "      <td>207.071301</td>\n",
              "      <td>0.614813</td>\n",
              "      <td>6.883970</td>\n",
              "      <td>37.970537</td>\n",
              "      <td>2496.930377</td>\n",
              "      <td>3.375619e+04</td>\n",
              "      <td>29.014417</td>\n",
              "      <td>2.200245</td>\n",
              "      <td>0.546215</td>\n",
              "      <td>0.262126</td>\n",
              "      <td>0.366676</td>\n",
              "    </tr>\n",
              "    <tr>\n",
              "      <th>min</th>\n",
              "      <td>0.000000</td>\n",
              "      <td>0.060000</td>\n",
              "      <td>15.670000</td>\n",
              "      <td>7.547502</td>\n",
              "      <td>0.000000</td>\n",
              "      <td>612.000000</td>\n",
              "      <td>178.958333</td>\n",
              "      <td>0.000000e+00</td>\n",
              "      <td>0.000000</td>\n",
              "      <td>0.000000</td>\n",
              "      <td>0.000000</td>\n",
              "      <td>0.000000</td>\n",
              "      <td>0.000000</td>\n",
              "    </tr>\n",
              "    <tr>\n",
              "      <th>25%</th>\n",
              "      <td>1.000000</td>\n",
              "      <td>0.103900</td>\n",
              "      <td>163.770000</td>\n",
              "      <td>10.558414</td>\n",
              "      <td>7.212500</td>\n",
              "      <td>682.000000</td>\n",
              "      <td>2820.000000</td>\n",
              "      <td>3.187000e+03</td>\n",
              "      <td>22.600000</td>\n",
              "      <td>0.000000</td>\n",
              "      <td>0.000000</td>\n",
              "      <td>0.000000</td>\n",
              "      <td>0.000000</td>\n",
              "    </tr>\n",
              "    <tr>\n",
              "      <th>50%</th>\n",
              "      <td>1.000000</td>\n",
              "      <td>0.122100</td>\n",
              "      <td>268.950000</td>\n",
              "      <td>10.928884</td>\n",
              "      <td>12.665000</td>\n",
              "      <td>707.000000</td>\n",
              "      <td>4139.958333</td>\n",
              "      <td>8.596000e+03</td>\n",
              "      <td>46.300000</td>\n",
              "      <td>1.000000</td>\n",
              "      <td>0.000000</td>\n",
              "      <td>0.000000</td>\n",
              "      <td>0.000000</td>\n",
              "    </tr>\n",
              "    <tr>\n",
              "      <th>75%</th>\n",
              "      <td>1.000000</td>\n",
              "      <td>0.140700</td>\n",
              "      <td>432.762500</td>\n",
              "      <td>11.291293</td>\n",
              "      <td>17.950000</td>\n",
              "      <td>737.000000</td>\n",
              "      <td>5730.000000</td>\n",
              "      <td>1.824950e+04</td>\n",
              "      <td>70.900000</td>\n",
              "      <td>2.000000</td>\n",
              "      <td>0.000000</td>\n",
              "      <td>0.000000</td>\n",
              "      <td>0.000000</td>\n",
              "    </tr>\n",
              "    <tr>\n",
              "      <th>max</th>\n",
              "      <td>1.000000</td>\n",
              "      <td>0.216400</td>\n",
              "      <td>940.140000</td>\n",
              "      <td>14.528354</td>\n",
              "      <td>29.960000</td>\n",
              "      <td>827.000000</td>\n",
              "      <td>17639.958330</td>\n",
              "      <td>1.207359e+06</td>\n",
              "      <td>119.000000</td>\n",
              "      <td>33.000000</td>\n",
              "      <td>13.000000</td>\n",
              "      <td>5.000000</td>\n",
              "      <td>1.000000</td>\n",
              "    </tr>\n",
              "  </tbody>\n",
              "</table>\n",
              "</div>"
            ],
            "text/plain": [
              "       credit.policy     int.rate  ...      pub.rec  not.fully.paid\n",
              "count    9578.000000  9578.000000  ...  9578.000000     9578.000000\n",
              "mean        0.804970     0.122640  ...     0.062122        0.160054\n",
              "std         0.396245     0.026847  ...     0.262126        0.366676\n",
              "min         0.000000     0.060000  ...     0.000000        0.000000\n",
              "25%         1.000000     0.103900  ...     0.000000        0.000000\n",
              "50%         1.000000     0.122100  ...     0.000000        0.000000\n",
              "75%         1.000000     0.140700  ...     0.000000        0.000000\n",
              "max         1.000000     0.216400  ...     5.000000        1.000000\n",
              "\n",
              "[8 rows x 13 columns]"
            ]
          },
          "metadata": {
            "tags": []
          },
          "execution_count": 30
        }
      ]
    },
    {
      "cell_type": "code",
      "metadata": {
        "jupyter": {
          "outputs_hidden": false
        },
        "id": "Q_D6aYiGNE0g",
        "colab": {
          "base_uri": "https://localhost:8080/",
          "height": 224
        },
        "outputId": "5d718426-36f5-4e88-9c93-4a1d175f3262"
      },
      "source": [
        "loans.head()"
      ],
      "execution_count": 31,
      "outputs": [
        {
          "output_type": "execute_result",
          "data": {
            "text/html": [
              "<div>\n",
              "<style scoped>\n",
              "    .dataframe tbody tr th:only-of-type {\n",
              "        vertical-align: middle;\n",
              "    }\n",
              "\n",
              "    .dataframe tbody tr th {\n",
              "        vertical-align: top;\n",
              "    }\n",
              "\n",
              "    .dataframe thead th {\n",
              "        text-align: right;\n",
              "    }\n",
              "</style>\n",
              "<table border=\"1\" class=\"dataframe\">\n",
              "  <thead>\n",
              "    <tr style=\"text-align: right;\">\n",
              "      <th></th>\n",
              "      <th>credit.policy</th>\n",
              "      <th>purpose</th>\n",
              "      <th>int.rate</th>\n",
              "      <th>installment</th>\n",
              "      <th>log.annual.inc</th>\n",
              "      <th>dti</th>\n",
              "      <th>fico</th>\n",
              "      <th>days.with.cr.line</th>\n",
              "      <th>revol.bal</th>\n",
              "      <th>revol.util</th>\n",
              "      <th>inq.last.6mths</th>\n",
              "      <th>delinq.2yrs</th>\n",
              "      <th>pub.rec</th>\n",
              "      <th>not.fully.paid</th>\n",
              "    </tr>\n",
              "  </thead>\n",
              "  <tbody>\n",
              "    <tr>\n",
              "      <th>0</th>\n",
              "      <td>1</td>\n",
              "      <td>debt_consolidation</td>\n",
              "      <td>0.1189</td>\n",
              "      <td>829.10</td>\n",
              "      <td>11.350407</td>\n",
              "      <td>19.48</td>\n",
              "      <td>737</td>\n",
              "      <td>5639.958333</td>\n",
              "      <td>28854</td>\n",
              "      <td>52.1</td>\n",
              "      <td>0</td>\n",
              "      <td>0</td>\n",
              "      <td>0</td>\n",
              "      <td>0</td>\n",
              "    </tr>\n",
              "    <tr>\n",
              "      <th>1</th>\n",
              "      <td>1</td>\n",
              "      <td>credit_card</td>\n",
              "      <td>0.1071</td>\n",
              "      <td>228.22</td>\n",
              "      <td>11.082143</td>\n",
              "      <td>14.29</td>\n",
              "      <td>707</td>\n",
              "      <td>2760.000000</td>\n",
              "      <td>33623</td>\n",
              "      <td>76.7</td>\n",
              "      <td>0</td>\n",
              "      <td>0</td>\n",
              "      <td>0</td>\n",
              "      <td>0</td>\n",
              "    </tr>\n",
              "    <tr>\n",
              "      <th>2</th>\n",
              "      <td>1</td>\n",
              "      <td>debt_consolidation</td>\n",
              "      <td>0.1357</td>\n",
              "      <td>366.86</td>\n",
              "      <td>10.373491</td>\n",
              "      <td>11.63</td>\n",
              "      <td>682</td>\n",
              "      <td>4710.000000</td>\n",
              "      <td>3511</td>\n",
              "      <td>25.6</td>\n",
              "      <td>1</td>\n",
              "      <td>0</td>\n",
              "      <td>0</td>\n",
              "      <td>0</td>\n",
              "    </tr>\n",
              "    <tr>\n",
              "      <th>3</th>\n",
              "      <td>1</td>\n",
              "      <td>debt_consolidation</td>\n",
              "      <td>0.1008</td>\n",
              "      <td>162.34</td>\n",
              "      <td>11.350407</td>\n",
              "      <td>8.10</td>\n",
              "      <td>712</td>\n",
              "      <td>2699.958333</td>\n",
              "      <td>33667</td>\n",
              "      <td>73.2</td>\n",
              "      <td>1</td>\n",
              "      <td>0</td>\n",
              "      <td>0</td>\n",
              "      <td>0</td>\n",
              "    </tr>\n",
              "    <tr>\n",
              "      <th>4</th>\n",
              "      <td>1</td>\n",
              "      <td>credit_card</td>\n",
              "      <td>0.1426</td>\n",
              "      <td>102.92</td>\n",
              "      <td>11.299732</td>\n",
              "      <td>14.97</td>\n",
              "      <td>667</td>\n",
              "      <td>4066.000000</td>\n",
              "      <td>4740</td>\n",
              "      <td>39.5</td>\n",
              "      <td>0</td>\n",
              "      <td>1</td>\n",
              "      <td>0</td>\n",
              "      <td>0</td>\n",
              "    </tr>\n",
              "  </tbody>\n",
              "</table>\n",
              "</div>"
            ],
            "text/plain": [
              "   credit.policy             purpose  ...  pub.rec  not.fully.paid\n",
              "0              1  debt_consolidation  ...        0               0\n",
              "1              1         credit_card  ...        0               0\n",
              "2              1  debt_consolidation  ...        0               0\n",
              "3              1  debt_consolidation  ...        0               0\n",
              "4              1         credit_card  ...        0               0\n",
              "\n",
              "[5 rows x 14 columns]"
            ]
          },
          "metadata": {
            "tags": []
          },
          "execution_count": 31
        }
      ]
    },
    {
      "cell_type": "markdown",
      "metadata": {
        "id": "yfq6CknXNE0h"
      },
      "source": [
        "# Exploratory Data Analysis\n",
        "\n",
        "Let's do some data visualization! We'll use seaborn and pandas built-in plotting capabilities, but feel free to use whatever library you want. Don't worry about the colors matching, just worry about getting the main idea of the plot.\n",
        "\n",
        "** Create a histogram of two FICO distributions on top of each other, one for each credit.policy outcome.**\n",
        "\n",
        "*Note: This is pretty tricky, feel free to wait a bit and reference the solutions. You'll probably need one line of code for each histogram, I also recommend just using pandas built in .hist()*"
      ]
    },
    {
      "cell_type": "code",
      "metadata": {
        "jupyter": {
          "outputs_hidden": false
        },
        "id": "1-hIuueZNE0i",
        "colab": {
          "base_uri": "https://localhost:8080/",
          "height": 302
        },
        "outputId": "6d77d680-30d1-4d09-f641-1288e99f126c"
      },
      "source": [
        "sns.set_style('whitegrid')\r\n",
        "sns.histplot(data = loans, x= 'fico', hue = 'credit.policy')"
      ],
      "execution_count": 32,
      "outputs": [
        {
          "output_type": "execute_result",
          "data": {
            "text/plain": [
              "<matplotlib.axes._subplots.AxesSubplot at 0x7f7054db0da0>"
            ]
          },
          "metadata": {
            "tags": []
          },
          "execution_count": 32
        },
        {
          "output_type": "display_data",
          "data": {
            "image/png": "[encoded data removed]",
            "text/plain": [
              "<Figure size 432x288 with 1 Axes>"
            ]
          },
          "metadata": {
            "tags": []
          }
        }
      ]
    },
    {
      "cell_type": "markdown",
      "metadata": {
        "id": "x4TRh4FPNE0j"
      },
      "source": [
        "** Create a similar figure, except this time select by the not.fully.paid column.**"
      ]
    },
    {
      "cell_type": "code",
      "metadata": {
        "jupyter": {
          "outputs_hidden": false
        },
        "id": "Vpk3krJPNE0j",
        "colab": {
          "base_uri": "https://localhost:8080/",
          "height": 302
        },
        "outputId": "67b41302-650e-4758-a0a0-f79266fdd335"
      },
      "source": [
        "sns.set_style('whitegrid')\r\n",
        "sns.histplot(data = loans, x= 'fico', hue = 'not.fully.paid')"
      ],
      "execution_count": 33,
      "outputs": [
        {
          "output_type": "execute_result",
          "data": {
            "text/plain": [
              "<matplotlib.axes._subplots.AxesSubplot at 0x7f705fa8c240>"
            ]
          },
          "metadata": {
            "tags": []
          },
          "execution_count": 33
        },
        {
          "output_type": "display_data",
          "data": {
            "image/png": "[encoded data removed]",
            "text/plain": [
              "<Figure size 432x288 with 1 Axes>"
            ]
          },
          "metadata": {
            "tags": []
          }
        }
      ]
    },
    {
      "cell_type": "markdown",
      "metadata": {
        "id": "kYkxRexwNE0k"
      },
      "source": [
        "** Create a countplot using seaborn showing the counts of loans by purpose, with the color hue defined by not.fully.paid. **"
      ]
    },
    {
      "cell_type": "code",
      "metadata": {
        "jupyter": {
          "outputs_hidden": false
        },
        "id": "JawCNbVpNE0k",
        "colab": {
          "base_uri": "https://localhost:8080/",
          "height": 305
        },
        "outputId": "fb2cbb7a-5203-471e-f7b5-544a708d1bd6"
      },
      "source": [
        "sns.set_style('whitegrid')\r\n",
        "sns.countplot(data=loans, x='purpose', hue='not.fully.paid')"
      ],
      "execution_count": 34,
      "outputs": [
        {
          "output_type": "execute_result",
          "data": {
            "text/plain": [
              "<matplotlib.axes._subplots.AxesSubplot at 0x7f7054f29eb8>"
            ]
          },
          "metadata": {
            "tags": []
          },
          "execution_count": 34
        },
        {
          "output_type": "display_data",
          "data": {
            "image/png": "[encoded data removed]",
            "text/plain": [
              "<Figure size 432x288 with 1 Axes>"
            ]
          },
          "metadata": {
            "tags": []
          }
        }
      ]
    },
    {
      "cell_type": "markdown",
      "metadata": {
        "id": "R2dyy0OONE0l"
      },
      "source": [
        "** Let's see the trend between FICO score and interest rate. Recreate the following jointplot.**"
      ]
    },
    {
      "cell_type": "code",
      "metadata": {
        "jupyter": {
          "outputs_hidden": false
        },
        "id": "abDbvtHyNE0l",
        "colab": {
          "base_uri": "https://localhost:8080/",
          "height": 458
        },
        "outputId": "f23c9581-0aff-4fa5-99ae-d073ab00b3ef"
      },
      "source": [
        "sns.jointplot(data=loans, x='fico', y=\"int.rate\")"
      ],
      "execution_count": 35,
      "outputs": [
        {
          "output_type": "execute_result",
          "data": {
            "text/plain": [
              "<seaborn.axisgrid.JointGrid at 0x7f705fb30c18>"
            ]
          },
          "metadata": {
            "tags": []
          },
          "execution_count": 35
        },
        {
          "output_type": "display_data",
          "data": {
            "image/png": "[encoded data removed]",
            "text/plain": [
              "<Figure size 432x432 with 3 Axes>"
            ]
          },
          "metadata": {
            "tags": []
          }
        }
      ]
    },
    {
      "cell_type": "markdown",
      "metadata": {
        "id": "hT-dxIVzNE0m"
      },
      "source": [
        "** Create the following lmplots to see if the trend differed between not.fully.paid and credit.policy. Check the documentation for lmplot() if you can't figure out how to separate it into columns.**"
      ]
    },
    {
      "cell_type": "code",
      "metadata": {
        "colab": {
          "base_uri": "https://localhost:8080/",
          "height": 386
        },
        "id": "1lc4itvOV3Uw",
        "outputId": "41babb04-1aaa-4b99-a18d-1604c7a9ce2c"
      },
      "source": [
        "\r\n",
        "g = sns.lmplot(x=\"fico\", y=\"not.fully.paid\", hue=\"credit.policy\", data=loans)"
      ],
      "execution_count": 36,
      "outputs": [
        {
          "output_type": "display_data",
          "data": {
            "image/png": "[encoded data removed]",
            "text/plain": [
              "<Figure size 442.175x360 with 1 Axes>"
            ]
          },
          "metadata": {
            "tags": []
          }
        }
      ]
    },
    {
      "cell_type": "code",
      "metadata": {
        "jupyter": {
          "outputs_hidden": false
        },
        "id": "eUK2aQe_NE0m",
        "outputId": "3cbffb02-dd72-4f3f-849d-223bd5b12368"
      },
      "source": [
        ""
      ],
      "execution_count": null,
      "outputs": [
        {
          "output_type": "execute_result",
          "data": {
            "text/plain": [
              "<seaborn.axisgrid.FacetGrid at 0x11ac4cb70>"
            ]
          },
          "metadata": {
            "tags": []
          },
          "execution_count": 11
        },
        {
          "output_type": "display_data",
          "data": {
            "text/plain": [
              "<matplotlib.figure.Figure at 0x11ad7e048>"
            ]
          },
          "metadata": {
            "tags": []
          }
        },
        {
          "output_type": "display_data",
          "data": {
            "image/png": "[encoded data removed]",
            "text/plain": [
              "<matplotlib.figure.Figure at 0x11ac1b6d8>"
            ]
          },
          "metadata": {
            "tags": []
          }
        }
      ]
    },
    {
      "cell_type": "markdown",
      "metadata": {
        "id": "GiklNlJiNE0n"
      },
      "source": [
        "# Setting up the Data\n",
        "\n",
        "Let's get ready to set up our data for our Random Forest Classification Model!\n",
        "\n",
        "**Check loans.info() again.**"
      ]
    },
    {
      "cell_type": "code",
      "metadata": {
        "jupyter": {
          "outputs_hidden": false
        },
        "id": "dYpg2HgANE0n",
        "colab": {
          "base_uri": "https://localhost:8080/"
        },
        "outputId": "c37be9c0-0288-4476-92a7-a8780ba35bcf"
      },
      "source": [
        "loans.info()"
      ],
      "execution_count": 37,
      "outputs": [
        {
          "output_type": "stream",
          "text": [
            "<class 'pandas.core.frame.DataFrame'>\n",
            "RangeIndex: 9578 entries, 0 to 9577\n",
            "Data columns (total 14 columns):\n",
            " #   Column             Non-Null Count  Dtype  \n",
            "---  ------             --------------  -----  \n",
            " 0   credit.policy      9578 non-null   int64  \n",
            " 1   purpose            9578 non-null   object \n",
            " 2   int.rate           9578 non-null   float64\n",
            " 3   installment        9578 non-null   float64\n",
            " 4   log.annual.inc     9578 non-null   float64\n",
            " 5   dti                9578 non-null   float64\n",
            " 6   fico               9578 non-null   int64  \n",
            " 7   days.with.cr.line  9578 non-null   float64\n",
            " 8   revol.bal          9578 non-null   int64  \n",
            " 9   revol.util         9578 non-null   float64\n",
            " 10  inq.last.6mths     9578 non-null   int64  \n",
            " 11  delinq.2yrs        9578 non-null   int64  \n",
            " 12  pub.rec            9578 non-null   int64  \n",
            " 13  not.fully.paid     9578 non-null   int64  \n",
            "dtypes: float64(6), int64(7), object(1)\n",
            "memory usage: 1.0+ MB\n"
          ],
          "name": "stdout"
        }
      ]
    },
    {
      "cell_type": "markdown",
      "metadata": {
        "id": "0WCSjnoeNE0o"
      },
      "source": [
        "## Categorical Features\n",
        "\n",
        "Notice that the **purpose** column as categorical\n",
        "\n",
        "That means we need to transform them using dummy variables so sklearn will be able to understand them. Let's do this in one clean step using pd.get_dummies.\n",
        "\n",
        "Let's show you a way of dealing with these columns that can be expanded to multiple categorical features if necessary.\n",
        "\n",
        "**Create a list of 1 element containing the string 'purpose'. Call this list cat_feats.**"
      ]
    },
    {
      "cell_type": "code",
      "metadata": {
        "collapsed": true,
        "jupyter": {
          "outputs_hidden": true
        },
        "id": "hPMI3BlyNE0o"
      },
      "source": [
        "cat_feats = ['purpose']"
      ],
      "execution_count": 38,
      "outputs": []
    },
    {
      "cell_type": "markdown",
      "metadata": {
        "id": "kWxFLj__NE0p"
      },
      "source": [
        "**Now use pd.get_dummies(loans,columns=cat_feats,drop_first=True) to create a fixed larger dataframe that has new feature columns with dummy variables. Set this dataframe as final_data.**"
      ]
    },
    {
      "cell_type": "code",
      "metadata": {
        "jupyter": {
          "outputs_hidden": false
        },
        "id": "LsQd3cgzNE0p",
        "colab": {
          "base_uri": "https://localhost:8080/",
          "height": 439
        },
        "outputId": "2404da68-b25a-47cd-8cc1-ea11de0ef3b2"
      },
      "source": [
        "pd.get_dummies(loans,columns=cat_feats,drop_first=True)"
      ],
      "execution_count": 39,
      "outputs": [
        {
          "output_type": "execute_result",
          "data": {
            "text/html": [
              "<div>\n",
              "<style scoped>\n",
              "    .dataframe tbody tr th:only-of-type {\n",
              "        vertical-align: middle;\n",
              "    }\n",
              "\n",
              "    .dataframe tbody tr th {\n",
              "        vertical-align: top;\n",
              "    }\n",
              "\n",
              "    .dataframe thead th {\n",
              "        text-align: right;\n",
              "    }\n",
              "</style>\n",
              "<table border=\"1\" class=\"dataframe\">\n",
              "  <thead>\n",
              "    <tr style=\"text-align: right;\">\n",
              "      <th></th>\n",
              "      <th>credit.policy</th>\n",
              "      <th>int.rate</th>\n",
              "      <th>installment</th>\n",
              "      <th>log.annual.inc</th>\n",
              "      <th>dti</th>\n",
              "      <th>fico</th>\n",
              "      <th>days.with.cr.line</th>\n",
              "      <th>revol.bal</th>\n",
              "      <th>revol.util</th>\n",
              "      <th>inq.last.6mths</th>\n",
              "      <th>delinq.2yrs</th>\n",
              "      <th>pub.rec</th>\n",
              "      <th>not.fully.paid</th>\n",
              "      <th>purpose_credit_card</th>\n",
              "      <th>purpose_debt_consolidation</th>\n",
              "      <th>purpose_educational</th>\n",
              "      <th>purpose_home_improvement</th>\n",
              "      <th>purpose_major_purchase</th>\n",
              "      <th>purpose_small_business</th>\n",
              "    </tr>\n",
              "  </thead>\n",
              "  <tbody>\n",
              "    <tr>\n",
              "      <th>0</th>\n",
              "      <td>1</td>\n",
              "      <td>0.1189</td>\n",
              "      <td>829.10</td>\n",
              "      <td>11.350407</td>\n",
              "      <td>19.48</td>\n",
              "      <td>737</td>\n",
              "      <td>5639.958333</td>\n",
              "      <td>28854</td>\n",
              "      <td>52.1</td>\n",
              "      <td>0</td>\n",
              "      <td>0</td>\n",
              "      <td>0</td>\n",
              "      <td>0</td>\n",
              "      <td>0</td>\n",
              "      <td>1</td>\n",
              "      <td>0</td>\n",
              "      <td>0</td>\n",
              "      <td>0</td>\n",
              "      <td>0</td>\n",
              "    </tr>\n",
              "    <tr>\n",
              "      <th>1</th>\n",
              "      <td>1</td>\n",
              "      <td>0.1071</td>\n",
              "      <td>228.22</td>\n",
              "      <td>11.082143</td>\n",
              "      <td>14.29</td>\n",
              "      <td>707</td>\n",
              "      <td>2760.000000</td>\n",
              "      <td>33623</td>\n",
              "      <td>76.7</td>\n",
              "      <td>0</td>\n",
              "      <td>0</td>\n",
              "      <td>0</td>\n",
              "      <td>0</td>\n",
              "      <td>1</td>\n",
              "      <td>0</td>\n",
              "      <td>0</td>\n",
              "      <td>0</td>\n",
              "      <td>0</td>\n",
              "      <td>0</td>\n",
              "    </tr>\n",
              "    <tr>\n",
              "      <th>2</th>\n",
              "      <td>1</td>\n",
              "      <td>0.1357</td>\n",
              "      <td>366.86</td>\n",
              "      <td>10.373491</td>\n",
              "      <td>11.63</td>\n",
              "      <td>682</td>\n",
              "      <td>4710.000000</td>\n",
              "      <td>3511</td>\n",
              "      <td>25.6</td>\n",
              "      <td>1</td>\n",
              "      <td>0</td>\n",
              "      <td>0</td>\n",
              "      <td>0</td>\n",
              "      <td>0</td>\n",
              "      <td>1</td>\n",
              "      <td>0</td>\n",
              "      <td>0</td>\n",
              "      <td>0</td>\n",
              "      <td>0</td>\n",
              "    </tr>\n",
              "    <tr>\n",
              "      <th>3</th>\n",
              "      <td>1</td>\n",
              "      <td>0.1008</td>\n",
              "      <td>162.34</td>\n",
              "      <td>11.350407</td>\n",
              "      <td>8.10</td>\n",
              "      <td>712</td>\n",
              "      <td>2699.958333</td>\n",
              "      <td>33667</td>\n",
              "      <td>73.2</td>\n",
              "      <td>1</td>\n",
              "      <td>0</td>\n",
              "      <td>0</td>\n",
              "      <td>0</td>\n",
              "      <td>0</td>\n",
              "      <td>1</td>\n",
              "      <td>0</td>\n",
              "      <td>0</td>\n",
              "      <td>0</td>\n",
              "      <td>0</td>\n",
              "    </tr>\n",
              "    <tr>\n",
              "      <th>4</th>\n",
              "      <td>1</td>\n",
              "      <td>0.1426</td>\n",
              "      <td>102.92</td>\n",
              "      <td>11.299732</td>\n",
              "      <td>14.97</td>\n",
              "      <td>667</td>\n",
              "      <td>4066.000000</td>\n",
              "      <td>4740</td>\n",
              "      <td>39.5</td>\n",
              "      <td>0</td>\n",
              "      <td>1</td>\n",
              "      <td>0</td>\n",
              "      <td>0</td>\n",
              "      <td>1</td>\n",
              "      <td>0</td>\n",
              "      <td>0</td>\n",
              "      <td>0</td>\n",
              "      <td>0</td>\n",
              "      <td>0</td>\n",
              "    </tr>\n",
              "    <tr>\n",
              "      <th>...</th>\n",
              "      <td>...</td>\n",
              "      <td>...</td>\n",
              "      <td>...</td>\n",
              "      <td>...</td>\n",
              "      <td>...</td>\n",
              "      <td>...</td>\n",
              "      <td>...</td>\n",
              "      <td>...</td>\n",
              "      <td>...</td>\n",
              "      <td>...</td>\n",
              "      <td>...</td>\n",
              "      <td>...</td>\n",
              "      <td>...</td>\n",
              "      <td>...</td>\n",
              "      <td>...</td>\n",
              "      <td>...</td>\n",
              "      <td>...</td>\n",
              "      <td>...</td>\n",
              "      <td>...</td>\n",
              "    </tr>\n",
              "    <tr>\n",
              "      <th>9573</th>\n",
              "      <td>0</td>\n",
              "      <td>0.1461</td>\n",
              "      <td>344.76</td>\n",
              "      <td>12.180755</td>\n",
              "      <td>10.39</td>\n",
              "      <td>672</td>\n",
              "      <td>10474.000000</td>\n",
              "      <td>215372</td>\n",
              "      <td>82.1</td>\n",
              "      <td>2</td>\n",
              "      <td>0</td>\n",
              "      <td>0</td>\n",
              "      <td>1</td>\n",
              "      <td>0</td>\n",
              "      <td>0</td>\n",
              "      <td>0</td>\n",
              "      <td>0</td>\n",
              "      <td>0</td>\n",
              "      <td>0</td>\n",
              "    </tr>\n",
              "    <tr>\n",
              "      <th>9574</th>\n",
              "      <td>0</td>\n",
              "      <td>0.1253</td>\n",
              "      <td>257.70</td>\n",
              "      <td>11.141862</td>\n",
              "      <td>0.21</td>\n",
              "      <td>722</td>\n",
              "      <td>4380.000000</td>\n",
              "      <td>184</td>\n",
              "      <td>1.1</td>\n",
              "      <td>5</td>\n",
              "      <td>0</td>\n",
              "      <td>0</td>\n",
              "      <td>1</td>\n",
              "      <td>0</td>\n",
              "      <td>0</td>\n",
              "      <td>0</td>\n",
              "      <td>0</td>\n",
              "      <td>0</td>\n",
              "      <td>0</td>\n",
              "    </tr>\n",
              "    <tr>\n",
              "      <th>9575</th>\n",
              "      <td>0</td>\n",
              "      <td>0.1071</td>\n",
              "      <td>97.81</td>\n",
              "      <td>10.596635</td>\n",
              "      <td>13.09</td>\n",
              "      <td>687</td>\n",
              "      <td>3450.041667</td>\n",
              "      <td>10036</td>\n",
              "      <td>82.9</td>\n",
              "      <td>8</td>\n",
              "      <td>0</td>\n",
              "      <td>0</td>\n",
              "      <td>1</td>\n",
              "      <td>0</td>\n",
              "      <td>1</td>\n",
              "      <td>0</td>\n",
              "      <td>0</td>\n",
              "      <td>0</td>\n",
              "      <td>0</td>\n",
              "    </tr>\n",
              "    <tr>\n",
              "      <th>9576</th>\n",
              "      <td>0</td>\n",
              "      <td>0.1600</td>\n",
              "      <td>351.58</td>\n",
              "      <td>10.819778</td>\n",
              "      <td>19.18</td>\n",
              "      <td>692</td>\n",
              "      <td>1800.000000</td>\n",
              "      <td>0</td>\n",
              "      <td>3.2</td>\n",
              "      <td>5</td>\n",
              "      <td>0</td>\n",
              "      <td>0</td>\n",
              "      <td>1</td>\n",
              "      <td>0</td>\n",
              "      <td>0</td>\n",
              "      <td>0</td>\n",
              "      <td>1</td>\n",
              "      <td>0</td>\n",
              "      <td>0</td>\n",
              "    </tr>\n",
              "    <tr>\n",
              "      <th>9577</th>\n",
              "      <td>0</td>\n",
              "      <td>0.1392</td>\n",
              "      <td>853.43</td>\n",
              "      <td>11.264464</td>\n",
              "      <td>16.28</td>\n",
              "      <td>732</td>\n",
              "      <td>4740.000000</td>\n",
              "      <td>37879</td>\n",
              "      <td>57.0</td>\n",
              "      <td>6</td>\n",
              "      <td>0</td>\n",
              "      <td>0</td>\n",
              "      <td>1</td>\n",
              "      <td>0</td>\n",
              "      <td>1</td>\n",
              "      <td>0</td>\n",
              "      <td>0</td>\n",
              "      <td>0</td>\n",
              "      <td>0</td>\n",
              "    </tr>\n",
              "  </tbody>\n",
              "</table>\n",
              "<p>9578 rows × 19 columns</p>\n",
              "</div>"
            ],
            "text/plain": [
              "      credit.policy  int.rate  ...  purpose_major_purchase  purpose_small_business\n",
              "0                 1    0.1189  ...                       0                       0\n",
              "1                 1    0.1071  ...                       0                       0\n",
              "2                 1    0.1357  ...                       0                       0\n",
              "3                 1    0.1008  ...                       0                       0\n",
              "4                 1    0.1426  ...                       0                       0\n",
              "...             ...       ...  ...                     ...                     ...\n",
              "9573              0    0.1461  ...                       0                       0\n",
              "9574              0    0.1253  ...                       0                       0\n",
              "9575              0    0.1071  ...                       0                       0\n",
              "9576              0    0.1600  ...                       0                       0\n",
              "9577              0    0.1392  ...                       0                       0\n",
              "\n",
              "[9578 rows x 19 columns]"
            ]
          },
          "metadata": {
            "tags": []
          },
          "execution_count": 39
        }
      ]
    },
    {
      "cell_type": "code",
      "metadata": {
        "jupyter": {
          "outputs_hidden": false
        },
        "id": "VPZC-Wl7NE0q"
      },
      "source": [
        ""
      ],
      "execution_count": null,
      "outputs": []
    },
    {
      "cell_type": "markdown",
      "metadata": {
        "id": "AEoUIQD9NE0q"
      },
      "source": [
        "## Train Test Split\n",
        "\n",
        "Now its time to split our data into a training set and a testing set!\n",
        "\n",
        "** Use sklearn to split your data into a training set and a testing set as we've done in the past.**"
      ]
    },
    {
      "cell_type": "code",
      "metadata": {
        "colab": {
          "base_uri": "https://localhost:8080/",
          "height": 224
        },
        "id": "3Q3x9M7sZJ2y",
        "outputId": "1d9eb2b1-7e04-47d8-ca9d-2bfa1e3f20c2"
      },
      "source": [
        "from sklearn.preprocessing import StandardScaler\r\n",
        "scaler = StandardScaler()\r\n",
        "scaler.fit(df.drop(cat_feats, axis =1))\r\n",
        "StandardScaler(copy=True, with_mean = True, with_std =True)\r\n",
        "scaled_features = scaler.transform(df.drop(cat_feats, axis=1))\r\n",
        "df_feat = pd.DataFrame(scaled_features, columns=df.columns[:-1])\r\n",
        "df_feat.head()"
      ],
      "execution_count": 47,
      "outputs": [
        {
          "output_type": "execute_result",
          "data": {
            "text/html": [
              "<div>\n",
              "<style scoped>\n",
              "    .dataframe tbody tr th:only-of-type {\n",
              "        vertical-align: middle;\n",
              "    }\n",
              "\n",
              "    .dataframe tbody tr th {\n",
              "        vertical-align: top;\n",
              "    }\n",
              "\n",
              "    .dataframe thead th {\n",
              "        text-align: right;\n",
              "    }\n",
              "</style>\n",
              "<table border=\"1\" class=\"dataframe\">\n",
              "  <thead>\n",
              "    <tr style=\"text-align: right;\">\n",
              "      <th></th>\n",
              "      <th>credit.policy</th>\n",
              "      <th>purpose</th>\n",
              "      <th>int.rate</th>\n",
              "      <th>installment</th>\n",
              "      <th>log.annual.inc</th>\n",
              "      <th>dti</th>\n",
              "      <th>fico</th>\n",
              "      <th>days.with.cr.line</th>\n",
              "      <th>revol.bal</th>\n",
              "      <th>revol.util</th>\n",
              "      <th>inq.last.6mths</th>\n",
              "      <th>delinq.2yrs</th>\n",
              "      <th>pub.rec</th>\n",
              "    </tr>\n",
              "  </thead>\n",
              "  <tbody>\n",
              "    <tr>\n",
              "      <th>0</th>\n",
              "      <td>0.492222</td>\n",
              "      <td>-0.139318</td>\n",
              "      <td>2.463099</td>\n",
              "      <td>0.680388</td>\n",
              "      <td>0.998505</td>\n",
              "      <td>0.688825</td>\n",
              "      <td>0.432230</td>\n",
              "      <td>0.353732</td>\n",
              "      <td>0.182704</td>\n",
              "      <td>-0.716989</td>\n",
              "      <td>-0.299730</td>\n",
              "      <td>-0.237003</td>\n",
              "      <td>-0.436524</td>\n",
              "    </tr>\n",
              "    <tr>\n",
              "      <th>1</th>\n",
              "      <td>0.492222</td>\n",
              "      <td>-0.578868</td>\n",
              "      <td>-0.438854</td>\n",
              "      <td>0.244031</td>\n",
              "      <td>0.244540</td>\n",
              "      <td>-0.101303</td>\n",
              "      <td>-0.721230</td>\n",
              "      <td>0.495018</td>\n",
              "      <td>1.030602</td>\n",
              "      <td>-0.716989</td>\n",
              "      <td>-0.299730</td>\n",
              "      <td>-0.237003</td>\n",
              "      <td>-0.436524</td>\n",
              "    </tr>\n",
              "    <tr>\n",
              "      <th>2</th>\n",
              "      <td>0.492222</td>\n",
              "      <td>0.486484</td>\n",
              "      <td>0.230708</td>\n",
              "      <td>-0.908659</td>\n",
              "      <td>-0.141885</td>\n",
              "      <td>-0.759742</td>\n",
              "      <td>0.059770</td>\n",
              "      <td>-0.397073</td>\n",
              "      <td>-0.730683</td>\n",
              "      <td>-0.262470</td>\n",
              "      <td>-0.299730</td>\n",
              "      <td>-0.237003</td>\n",
              "      <td>-0.436524</td>\n",
              "    </tr>\n",
              "    <tr>\n",
              "      <th>3</th>\n",
              "      <td>0.492222</td>\n",
              "      <td>-0.813544</td>\n",
              "      <td>-0.757022</td>\n",
              "      <td>0.680388</td>\n",
              "      <td>-0.654697</td>\n",
              "      <td>0.030385</td>\n",
              "      <td>-0.745277</td>\n",
              "      <td>0.496321</td>\n",
              "      <td>0.909966</td>\n",
              "      <td>-0.262470</td>\n",
              "      <td>-0.299730</td>\n",
              "      <td>-0.237003</td>\n",
              "      <td>-0.436524</td>\n",
              "    </tr>\n",
              "    <tr>\n",
              "      <th>4</th>\n",
              "      <td>0.492222</td>\n",
              "      <td>0.743509</td>\n",
              "      <td>-1.043992</td>\n",
              "      <td>0.597961</td>\n",
              "      <td>0.343326</td>\n",
              "      <td>-1.154806</td>\n",
              "      <td>-0.198161</td>\n",
              "      <td>-0.360663</td>\n",
              "      <td>-0.251586</td>\n",
              "      <td>-0.716989</td>\n",
              "      <td>1.531147</td>\n",
              "      <td>-0.237003</td>\n",
              "      <td>-0.436524</td>\n",
              "    </tr>\n",
              "  </tbody>\n",
              "</table>\n",
              "</div>"
            ],
            "text/plain": [
              "   credit.policy   purpose  int.rate  ...  inq.last.6mths  delinq.2yrs   pub.rec\n",
              "0       0.492222 -0.139318  2.463099  ...       -0.299730    -0.237003 -0.436524\n",
              "1       0.492222 -0.578868 -0.438854  ...       -0.299730    -0.237003 -0.436524\n",
              "2       0.492222  0.486484  0.230708  ...       -0.299730    -0.237003 -0.436524\n",
              "3       0.492222 -0.813544 -0.757022  ...       -0.299730    -0.237003 -0.436524\n",
              "4       0.492222  0.743509 -1.043992  ...        1.531147    -0.237003 -0.436524\n",
              "\n",
              "[5 rows x 13 columns]"
            ]
          },
          "metadata": {
            "tags": []
          },
          "execution_count": 47
        }
      ]
    },
    {
      "cell_type": "code",
      "metadata": {
        "collapsed": true,
        "jupyter": {
          "outputs_hidden": true
        },
        "id": "OFrqkao-NE0q"
      },
      "source": [
        "from sklearn.model_selection import train_test_split"
      ],
      "execution_count": 48,
      "outputs": []
    },
    {
      "cell_type": "code",
      "metadata": {
        "collapsed": true,
        "jupyter": {
          "outputs_hidden": true
        },
        "id": "X2xd8y0jNE0r"
      },
      "source": [
        "X_train, X_test, y_train, y_test = train_test_split(scaled_features,df[cat_feats], test_size=0.30)"
      ],
      "execution_count": 49,
      "outputs": []
    },
    {
      "cell_type": "markdown",
      "metadata": {
        "id": "4PeyF1NYNE0r"
      },
      "source": [
        "## Training a Decision Tree Model\n",
        "\n",
        "Let's start by training a single decision tree first!\n",
        "\n",
        "** Import DecisionTreeClassifier**"
      ]
    },
    {
      "cell_type": "code",
      "metadata": {
        "collapsed": true,
        "jupyter": {
          "outputs_hidden": true
        },
        "id": "jNqbXNV2NE0r"
      },
      "source": [
        "from sklearn.tree import DecisionTreeClassifier"
      ],
      "execution_count": null,
      "outputs": []
    },
    {
      "cell_type": "markdown",
      "metadata": {
        "id": "TRr-bq4PNE0s"
      },
      "source": [
        "**Create an instance of DecisionTreeClassifier() called dtree and fit it to the training data.**"
      ]
    },
    {
      "cell_type": "code",
      "metadata": {
        "collapsed": true,
        "jupyter": {
          "outputs_hidden": true
        },
        "id": "1LUAaa9ZNE0s"
      },
      "source": [
        ""
      ],
      "execution_count": null,
      "outputs": []
    },
    {
      "cell_type": "code",
      "metadata": {
        "jupyter": {
          "outputs_hidden": false
        },
        "id": "LvgcGpXlNE0s",
        "outputId": "a60fd724-0b14-4317-ee0f-d4498dd0d0ea"
      },
      "source": [
        ""
      ],
      "execution_count": null,
      "outputs": [
        {
          "output_type": "execute_result",
          "data": {
            "text/plain": [
              "DecisionTreeClassifier(class_weight=None, criterion='gini', max_depth=None,\n",
              "            max_features=None, max_leaf_nodes=None, min_samples_leaf=1,\n",
              "            min_samples_split=2, min_weight_fraction_leaf=0.0,\n",
              "            presort=False, random_state=None, splitter='best')"
            ]
          },
          "metadata": {
            "tags": []
          },
          "execution_count": 32
        }
      ]
    },
    {
      "cell_type": "markdown",
      "metadata": {
        "id": "VzonG8L2NE0t"
      },
      "source": [
        "## Predictions and Evaluation of Decision Tree\n",
        "**Create predictions from the test set and create a classification report and a confusion matrix.**"
      ]
    },
    {
      "cell_type": "code",
      "metadata": {
        "collapsed": true,
        "jupyter": {
          "outputs_hidden": true
        },
        "id": "nxhGUKWpNE0t"
      },
      "source": [
        ""
      ],
      "execution_count": null,
      "outputs": []
    },
    {
      "cell_type": "code",
      "metadata": {
        "collapsed": true,
        "jupyter": {
          "outputs_hidden": true
        },
        "id": "Rg0vpYCiNE0u"
      },
      "source": [
        ""
      ],
      "execution_count": null,
      "outputs": []
    },
    {
      "cell_type": "code",
      "metadata": {
        "jupyter": {
          "outputs_hidden": false
        },
        "id": "Rqvma8Q6NE0u",
        "outputId": "27804d0f-62f7-4bab-fbfe-b2db8279110a"
      },
      "source": [
        ""
      ],
      "execution_count": null,
      "outputs": [
        {
          "output_type": "stream",
          "text": [
            "             precision    recall  f1-score   support\n",
            "\n",
            "          0       0.85      0.81      0.83      2431\n",
            "          1       0.16      0.20      0.18       443\n",
            "\n",
            "avg / total       0.74      0.72      0.73      2874\n",
            "\n"
          ],
          "name": "stdout"
        }
      ]
    },
    {
      "cell_type": "code",
      "metadata": {
        "jupyter": {
          "outputs_hidden": false
        },
        "id": "TagESXjuNE0u",
        "outputId": "1716626f-36a4-43ca-9fc9-fb0b017bf955"
      },
      "source": [
        ""
      ],
      "execution_count": null,
      "outputs": [
        {
          "output_type": "stream",
          "text": [
            "[[1980  451]\n",
            " [ 355   88]]\n"
          ],
          "name": "stdout"
        }
      ]
    },
    {
      "cell_type": "markdown",
      "metadata": {
        "id": "sY6qWAZXNE0v"
      },
      "source": [
        "## Training the Random Forest model\n",
        "\n",
        "Now its time to train our model!\n",
        "\n",
        "**Create an instance of the RandomForestClassifier class and fit it to our training data from the previous step.**"
      ]
    },
    {
      "cell_type": "code",
      "metadata": {
        "collapsed": true,
        "jupyter": {
          "outputs_hidden": true
        },
        "id": "zwmPck-7NE0v"
      },
      "source": [
        ""
      ],
      "execution_count": null,
      "outputs": []
    },
    {
      "cell_type": "code",
      "metadata": {
        "collapsed": true,
        "jupyter": {
          "outputs_hidden": true
        },
        "id": "2EOkseU0NE0v"
      },
      "source": [
        ""
      ],
      "execution_count": null,
      "outputs": []
    },
    {
      "cell_type": "code",
      "metadata": {
        "jupyter": {
          "outputs_hidden": false
        },
        "id": "nFvkSGHBNE0w",
        "outputId": "22f49085-e010-4b7b-c60a-d84625340420"
      },
      "source": [
        ""
      ],
      "execution_count": null,
      "outputs": [
        {
          "output_type": "execute_result",
          "data": {
            "text/plain": [
              "RandomForestClassifier(bootstrap=True, class_weight=None, criterion='gini',\n",
              "            max_depth=None, max_features='auto', max_leaf_nodes=None,\n",
              "            min_samples_leaf=1, min_samples_split=2,\n",
              "            min_weight_fraction_leaf=0.0, n_estimators=600, n_jobs=1,\n",
              "            oob_score=False, random_state=None, verbose=0,\n",
              "            warm_start=False)"
            ]
          },
          "metadata": {
            "tags": []
          },
          "execution_count": 27
        }
      ]
    },
    {
      "cell_type": "markdown",
      "metadata": {
        "id": "4PdYfMuYNE0w"
      },
      "source": [
        "## Predictions and Evaluation\n",
        "\n",
        "Let's predict off the y_test values and evaluate our model.\n",
        "\n",
        "** Predict the class of not.fully.paid for the X_test data.**"
      ]
    },
    {
      "cell_type": "code",
      "metadata": {
        "jupyter": {
          "outputs_hidden": false
        },
        "id": "LIPSZ1QaNE0x"
      },
      "source": [
        ""
      ],
      "execution_count": null,
      "outputs": []
    },
    {
      "cell_type": "markdown",
      "metadata": {
        "id": "8rCdWKYtNE0x"
      },
      "source": [
        "**Now create a classification report from the results. Do you get anything strange or some sort of warning?**"
      ]
    },
    {
      "cell_type": "code",
      "metadata": {
        "collapsed": true,
        "jupyter": {
          "outputs_hidden": true
        },
        "id": "OAqTsH5vNE0x"
      },
      "source": [
        ""
      ],
      "execution_count": null,
      "outputs": []
    },
    {
      "cell_type": "code",
      "metadata": {
        "jupyter": {
          "outputs_hidden": false
        },
        "id": "OHaQRUnoNE0y",
        "outputId": "41e48f88-1a46-494f-fc99-782ae676cdef"
      },
      "source": [
        ""
      ],
      "execution_count": null,
      "outputs": [
        {
          "output_type": "stream",
          "text": [
            "             precision    recall  f1-score   support\n",
            "\n",
            "          0       0.85      1.00      0.92      2431\n",
            "          1       0.56      0.01      0.02       443\n",
            "\n",
            "avg / total       0.80      0.85      0.78      2874\n",
            "\n"
          ],
          "name": "stdout"
        }
      ]
    },
    {
      "cell_type": "markdown",
      "metadata": {
        "id": "_A-icK34NE0y"
      },
      "source": [
        "**Show the Confusion Matrix for the predictions.**"
      ]
    },
    {
      "cell_type": "code",
      "metadata": {
        "jupyter": {
          "outputs_hidden": false
        },
        "id": "r9R-TPlpNE0y",
        "outputId": "30745943-548a-4690-add8-32bf7869c426"
      },
      "source": [
        ""
      ],
      "execution_count": null,
      "outputs": [
        {
          "output_type": "stream",
          "text": [
            "[[2427    4]\n",
            " [ 438    5]]\n"
          ],
          "name": "stdout"
        }
      ]
    },
    {
      "cell_type": "markdown",
      "metadata": {
        "id": "ynXiO5sQNE0z"
      },
      "source": [
        "**What performed better the random forest or the decision tree?**"
      ]
    },
    {
      "cell_type": "code",
      "metadata": {
        "collapsed": true,
        "jupyter": {
          "outputs_hidden": true
        },
        "id": "RxNBiTaQNE00"
      },
      "source": [
        ""
      ],
      "execution_count": null,
      "outputs": []
    },
    {
      "cell_type": "markdown",
      "metadata": {
        "id": "t4dp9BYqNE00"
      },
      "source": [
        "#Cheers!"
      ]
    },
    {
      "cell_type": "code",
      "metadata": {
        "id": "anjihno1NRPZ"
      },
      "source": [
        ""
      ],
      "execution_count": null,
      "outputs": []
    }
  ]
}