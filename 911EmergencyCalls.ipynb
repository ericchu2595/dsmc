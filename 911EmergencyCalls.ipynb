{
  "nbformat": 4,
  "nbformat_minor": 0,
  "metadata": {
    "colab": {
      "name": "911EmergencyCalls.ipynb",
      "provenance": [],
      "collapsed_sections": [],
      "toc_visible": true,
      "include_colab_link": true
    },
    "kernelspec": {
      "display_name": "Python 3",
      "name": "python3"
    }
  },
  "cells": [
    {
      "cell_type": "markdown",
      "metadata": {
        "id": "view-in-github",
        "colab_type": "text"
      },
      "source": [
        "<a href=\"https://colab.research.google.com/github/ericchu2595/dsmc/blob/master/911EmergencyCalls.ipynb\" target=\"_parent\"><img src=\"https://colab.research.google.com/assets/colab-badge.svg\" alt=\"Open In Colab\"/></a>"
      ]
    },
    {
      "cell_type": "markdown",
      "metadata": {
        "id": "P5dUtcQvvbBo"
      },
      "source": [
        "#Case Study\r\n",
        "\r\n",
        "Congrats! You have been contracted to conduct a brief analysis of a dataset containing ememrgency calls in order to determine the allocation of funds to you local authorities.  This analysis will play a role in deciding changes to the emergency response department.\r\n",
        "\r\n",
        "The data is based in 911 emergency calls and your job is to determine a variety of issues regarding said calls.\r\n",
        "\r\n",
        "1. Using Pandas and Numpy, analyse the data and come up with 5 questions that you would like to answer about the data.\r\n",
        "\r\n",
        "2. the instructor will provide a rnage of questions to answer and you should use your knowledge to complte them as a team."
      ]
    },
    {
      "cell_type": "code",
      "metadata": {
        "id": "W9grgLjZ_7Wv"
      },
      "source": [
        "import numpy as np\r\n",
        "import pandas as pd\r\n",
        "import matplotlib.pyplot\r\n",
        "\r\n",
        "\r\n",
        "data = pd.read_csv('/content/drive/MyDrive/Colab Notebooks/Projects/911/Data/911.csv')\r\n"
      ],
      "execution_count": 16,
      "outputs": []
    },
    {
      "cell_type": "markdown",
      "metadata": {
        "id": "DWPcZQOOFpSY"
      },
      "source": [
        "1. What are the 5 most common titles for 911 emergency calls?\r\n",
        "\r\n",
        "2. How many emergency calls did each zip code 19401.0 make?\r\n",
        "\r\n",
        "3. What township made the least 911 emergency calls?\r\n",
        "\r\n",
        "4. How many addresses have \"Dead end\" in them?\r\n",
        "\r\n",
        "5. How many 911 emergency calls were made in each year?"
      ]
    },
    {
      "cell_type": "code",
      "metadata": {
        "colab": {
          "base_uri": "https://localhost:8080/",
          "height": 391
        },
        "id": "EEamuDC_EtfO",
        "outputId": "6d4cb625-c5f7-4f84-f244-3d0ccaebd358"
      },
      "source": [
        "df.tail()"
      ],
      "execution_count": 8,
      "outputs": [
        {
          "output_type": "execute_result",
          "data": {
            "text/html": [
              "<div>\n",
              "<style scoped>\n",
              "    .dataframe tbody tr th:only-of-type {\n",
              "        vertical-align: middle;\n",
              "    }\n",
              "\n",
              "    .dataframe tbody tr th {\n",
              "        vertical-align: top;\n",
              "    }\n",
              "\n",
              "    .dataframe thead th {\n",
              "        text-align: right;\n",
              "    }\n",
              "</style>\n",
              "<table border=\"1\" class=\"dataframe\">\n",
              "  <thead>\n",
              "    <tr style=\"text-align: right;\">\n",
              "      <th></th>\n",
              "      <th>lat</th>\n",
              "      <th>lng</th>\n",
              "      <th>desc</th>\n",
              "      <th>zip</th>\n",
              "      <th>title</th>\n",
              "      <th>timeStamp</th>\n",
              "      <th>twp</th>\n",
              "      <th>addr</th>\n",
              "      <th>e</th>\n",
              "    </tr>\n",
              "  </thead>\n",
              "  <tbody>\n",
              "    <tr>\n",
              "      <th>99487</th>\n",
              "      <td>40.132869</td>\n",
              "      <td>-75.333515</td>\n",
              "      <td>MARKLEY ST &amp; W LOGAN ST; NORRISTOWN; 2016-08-2...</td>\n",
              "      <td>19401.0</td>\n",
              "      <td>Traffic: VEHICLE ACCIDENT -</td>\n",
              "      <td>2016-08-24 11:06:00</td>\n",
              "      <td>NORRISTOWN</td>\n",
              "      <td>MARKLEY ST &amp; W LOGAN ST</td>\n",
              "      <td>1</td>\n",
              "    </tr>\n",
              "    <tr>\n",
              "      <th>99488</th>\n",
              "      <td>40.006974</td>\n",
              "      <td>-75.289080</td>\n",
              "      <td>LANCASTER AVE &amp; RITTENHOUSE PL; LOWER MERION; ...</td>\n",
              "      <td>19003.0</td>\n",
              "      <td>Traffic: VEHICLE ACCIDENT -</td>\n",
              "      <td>2016-08-24 11:07:02</td>\n",
              "      <td>LOWER MERION</td>\n",
              "      <td>LANCASTER AVE &amp; RITTENHOUSE PL</td>\n",
              "      <td>1</td>\n",
              "    </tr>\n",
              "    <tr>\n",
              "      <th>99489</th>\n",
              "      <td>40.115429</td>\n",
              "      <td>-75.334679</td>\n",
              "      <td>CHESTNUT ST &amp; WALNUT ST;  NORRISTOWN; Station ...</td>\n",
              "      <td>19401.0</td>\n",
              "      <td>EMS: FALL VICTIM</td>\n",
              "      <td>2016-08-24 11:12:00</td>\n",
              "      <td>NORRISTOWN</td>\n",
              "      <td>CHESTNUT ST &amp; WALNUT ST</td>\n",
              "      <td>1</td>\n",
              "    </tr>\n",
              "    <tr>\n",
              "      <th>99490</th>\n",
              "      <td>40.186431</td>\n",
              "      <td>-75.192555</td>\n",
              "      <td>WELSH RD &amp; WEBSTER LN;  HORSHAM; Station 352; ...</td>\n",
              "      <td>19002.0</td>\n",
              "      <td>EMS: NAUSEA/VOMITING</td>\n",
              "      <td>2016-08-24 11:17:01</td>\n",
              "      <td>HORSHAM</td>\n",
              "      <td>WELSH RD &amp; WEBSTER LN</td>\n",
              "      <td>1</td>\n",
              "    </tr>\n",
              "    <tr>\n",
              "      <th>99491</th>\n",
              "      <td>40.207055</td>\n",
              "      <td>-75.317952</td>\n",
              "      <td>MORRIS RD &amp; S BROAD ST; UPPER GWYNEDD; 2016-08...</td>\n",
              "      <td>19446.0</td>\n",
              "      <td>Traffic: VEHICLE ACCIDENT -</td>\n",
              "      <td>2016-08-24 11:17:02</td>\n",
              "      <td>UPPER GWYNEDD</td>\n",
              "      <td>MORRIS RD &amp; S BROAD ST</td>\n",
              "      <td>1</td>\n",
              "    </tr>\n",
              "  </tbody>\n",
              "</table>\n",
              "</div>"
            ],
            "text/plain": [
              "             lat        lng  ...                            addr  e\n",
              "99487  40.132869 -75.333515  ...         MARKLEY ST & W LOGAN ST  1\n",
              "99488  40.006974 -75.289080  ...  LANCASTER AVE & RITTENHOUSE PL  1\n",
              "99489  40.115429 -75.334679  ...         CHESTNUT ST & WALNUT ST  1\n",
              "99490  40.186431 -75.192555  ...           WELSH RD & WEBSTER LN  1\n",
              "99491  40.207055 -75.317952  ...          MORRIS RD & S BROAD ST  1\n",
              "\n",
              "[5 rows x 9 columns]"
            ]
          },
          "metadata": {
            "tags": []
          },
          "execution_count": 8
        }
      ]
    },
    {
      "cell_type": "code",
      "metadata": {
        "colab": {
          "base_uri": "https://localhost:8080/",
          "height": 288
        },
        "id": "v1ijVdYYF9PQ",
        "outputId": "e89027c4-b549-438b-d489-891ff5c6e996"
      },
      "source": [
        "df.describe()"
      ],
      "execution_count": null,
      "outputs": [
        {
          "output_type": "execute_result",
          "data": {
            "text/html": [
              "<div>\n",
              "<style scoped>\n",
              "    .dataframe tbody tr th:only-of-type {\n",
              "        vertical-align: middle;\n",
              "    }\n",
              "\n",
              "    .dataframe tbody tr th {\n",
              "        vertical-align: top;\n",
              "    }\n",
              "\n",
              "    .dataframe thead th {\n",
              "        text-align: right;\n",
              "    }\n",
              "</style>\n",
              "<table border=\"1\" class=\"dataframe\">\n",
              "  <thead>\n",
              "    <tr style=\"text-align: right;\">\n",
              "      <th></th>\n",
              "      <th>lat</th>\n",
              "      <th>lng</th>\n",
              "      <th>zip</th>\n",
              "      <th>e</th>\n",
              "    </tr>\n",
              "  </thead>\n",
              "  <tbody>\n",
              "    <tr>\n",
              "      <th>count</th>\n",
              "      <td>99492.000000</td>\n",
              "      <td>99492.000000</td>\n",
              "      <td>86637.000000</td>\n",
              "      <td>99492.0</td>\n",
              "    </tr>\n",
              "    <tr>\n",
              "      <th>mean</th>\n",
              "      <td>40.159526</td>\n",
              "      <td>-75.317464</td>\n",
              "      <td>19237.658298</td>\n",
              "      <td>1.0</td>\n",
              "    </tr>\n",
              "    <tr>\n",
              "      <th>std</th>\n",
              "      <td>0.094446</td>\n",
              "      <td>0.174826</td>\n",
              "      <td>345.344914</td>\n",
              "      <td>0.0</td>\n",
              "    </tr>\n",
              "    <tr>\n",
              "      <th>min</th>\n",
              "      <td>30.333596</td>\n",
              "      <td>-95.595595</td>\n",
              "      <td>17752.000000</td>\n",
              "      <td>1.0</td>\n",
              "    </tr>\n",
              "    <tr>\n",
              "      <th>25%</th>\n",
              "      <td>40.100423</td>\n",
              "      <td>-75.392104</td>\n",
              "      <td>19038.000000</td>\n",
              "      <td>1.0</td>\n",
              "    </tr>\n",
              "    <tr>\n",
              "      <th>50%</th>\n",
              "      <td>40.145223</td>\n",
              "      <td>-75.304667</td>\n",
              "      <td>19401.000000</td>\n",
              "      <td>1.0</td>\n",
              "    </tr>\n",
              "    <tr>\n",
              "      <th>75%</th>\n",
              "      <td>40.229008</td>\n",
              "      <td>-75.212513</td>\n",
              "      <td>19446.000000</td>\n",
              "      <td>1.0</td>\n",
              "    </tr>\n",
              "    <tr>\n",
              "      <th>max</th>\n",
              "      <td>41.167156</td>\n",
              "      <td>-74.995041</td>\n",
              "      <td>77316.000000</td>\n",
              "      <td>1.0</td>\n",
              "    </tr>\n",
              "  </tbody>\n",
              "</table>\n",
              "</div>"
            ],
            "text/plain": [
              "                lat           lng           zip        e\n",
              "count  99492.000000  99492.000000  86637.000000  99492.0\n",
              "mean      40.159526    -75.317464  19237.658298      1.0\n",
              "std        0.094446      0.174826    345.344914      0.0\n",
              "min       30.333596    -95.595595  17752.000000      1.0\n",
              "25%       40.100423    -75.392104  19038.000000      1.0\n",
              "50%       40.145223    -75.304667  19401.000000      1.0\n",
              "75%       40.229008    -75.212513  19446.000000      1.0\n",
              "max       41.167156    -74.995041  77316.000000      1.0"
            ]
          },
          "metadata": {
            "tags": []
          },
          "execution_count": 8
        }
      ]
    },
    {
      "cell_type": "code",
      "metadata": {
        "colab": {
          "base_uri": "https://localhost:8080/",
          "height": 1000
        },
        "id": "FIByODwdF9-g",
        "outputId": "259e0994-8c6d-4ed1-93eb-e1a90893aaab"
      },
      "source": [
        "df.head(20)"
      ],
      "execution_count": null,
      "outputs": [
        {
          "output_type": "execute_result",
          "data": {
            "text/html": [
              "<div>\n",
              "<style scoped>\n",
              "    .dataframe tbody tr th:only-of-type {\n",
              "        vertical-align: middle;\n",
              "    }\n",
              "\n",
              "    .dataframe tbody tr th {\n",
              "        vertical-align: top;\n",
              "    }\n",
              "\n",
              "    .dataframe thead th {\n",
              "        text-align: right;\n",
              "    }\n",
              "</style>\n",
              "<table border=\"1\" class=\"dataframe\">\n",
              "  <thead>\n",
              "    <tr style=\"text-align: right;\">\n",
              "      <th></th>\n",
              "      <th>lat</th>\n",
              "      <th>lng</th>\n",
              "      <th>desc</th>\n",
              "      <th>zip</th>\n",
              "      <th>title</th>\n",
              "      <th>timeStamp</th>\n",
              "      <th>twp</th>\n",
              "      <th>addr</th>\n",
              "      <th>e</th>\n",
              "    </tr>\n",
              "  </thead>\n",
              "  <tbody>\n",
              "    <tr>\n",
              "      <th>0</th>\n",
              "      <td>40.297876</td>\n",
              "      <td>-75.581294</td>\n",
              "      <td>REINDEER CT &amp; DEAD END;  NEW HANOVER; Station ...</td>\n",
              "      <td>19525.0</td>\n",
              "      <td>EMS: BACK PAINS/INJURY</td>\n",
              "      <td>2015-12-10 17:40:00</td>\n",
              "      <td>NEW HANOVER</td>\n",
              "      <td>REINDEER CT &amp; DEAD END</td>\n",
              "      <td>1</td>\n",
              "    </tr>\n",
              "    <tr>\n",
              "      <th>1</th>\n",
              "      <td>40.258061</td>\n",
              "      <td>-75.264680</td>\n",
              "      <td>BRIAR PATH &amp; WHITEMARSH LN;  HATFIELD TOWNSHIP...</td>\n",
              "      <td>19446.0</td>\n",
              "      <td>EMS: DIABETIC EMERGENCY</td>\n",
              "      <td>2015-12-10 17:40:00</td>\n",
              "      <td>HATFIELD TOWNSHIP</td>\n",
              "      <td>BRIAR PATH &amp; WHITEMARSH LN</td>\n",
              "      <td>1</td>\n",
              "    </tr>\n",
              "    <tr>\n",
              "      <th>2</th>\n",
              "      <td>40.121182</td>\n",
              "      <td>-75.351975</td>\n",
              "      <td>HAWS AVE; NORRISTOWN; 2015-12-10 @ 14:39:21-St...</td>\n",
              "      <td>19401.0</td>\n",
              "      <td>Fire: GAS-ODOR/LEAK</td>\n",
              "      <td>2015-12-10 17:40:00</td>\n",
              "      <td>NORRISTOWN</td>\n",
              "      <td>HAWS AVE</td>\n",
              "      <td>1</td>\n",
              "    </tr>\n",
              "    <tr>\n",
              "      <th>3</th>\n",
              "      <td>40.116153</td>\n",
              "      <td>-75.343513</td>\n",
              "      <td>AIRY ST &amp; SWEDE ST;  NORRISTOWN; Station 308A;...</td>\n",
              "      <td>19401.0</td>\n",
              "      <td>EMS: CARDIAC EMERGENCY</td>\n",
              "      <td>2015-12-10 17:40:01</td>\n",
              "      <td>NORRISTOWN</td>\n",
              "      <td>AIRY ST &amp; SWEDE ST</td>\n",
              "      <td>1</td>\n",
              "    </tr>\n",
              "    <tr>\n",
              "      <th>4</th>\n",
              "      <td>40.251492</td>\n",
              "      <td>-75.603350</td>\n",
              "      <td>CHERRYWOOD CT &amp; DEAD END;  LOWER POTTSGROVE; S...</td>\n",
              "      <td>NaN</td>\n",
              "      <td>EMS: DIZZINESS</td>\n",
              "      <td>2015-12-10 17:40:01</td>\n",
              "      <td>LOWER POTTSGROVE</td>\n",
              "      <td>CHERRYWOOD CT &amp; DEAD END</td>\n",
              "      <td>1</td>\n",
              "    </tr>\n",
              "    <tr>\n",
              "      <th>5</th>\n",
              "      <td>40.253473</td>\n",
              "      <td>-75.283245</td>\n",
              "      <td>CANNON AVE &amp; W 9TH ST;  LANSDALE; Station 345;...</td>\n",
              "      <td>19446.0</td>\n",
              "      <td>EMS: HEAD INJURY</td>\n",
              "      <td>2015-12-10 17:40:01</td>\n",
              "      <td>LANSDALE</td>\n",
              "      <td>CANNON AVE &amp; W 9TH ST</td>\n",
              "      <td>1</td>\n",
              "    </tr>\n",
              "    <tr>\n",
              "      <th>6</th>\n",
              "      <td>40.182111</td>\n",
              "      <td>-75.127795</td>\n",
              "      <td>LAUREL AVE &amp; OAKDALE AVE;  HORSHAM; Station 35...</td>\n",
              "      <td>19044.0</td>\n",
              "      <td>EMS: NAUSEA/VOMITING</td>\n",
              "      <td>2015-12-10 17:40:01</td>\n",
              "      <td>HORSHAM</td>\n",
              "      <td>LAUREL AVE &amp; OAKDALE AVE</td>\n",
              "      <td>1</td>\n",
              "    </tr>\n",
              "    <tr>\n",
              "      <th>7</th>\n",
              "      <td>40.217286</td>\n",
              "      <td>-75.405182</td>\n",
              "      <td>COLLEGEVILLE RD &amp; LYWISKI RD;  SKIPPACK; Stati...</td>\n",
              "      <td>19426.0</td>\n",
              "      <td>EMS: RESPIRATORY EMERGENCY</td>\n",
              "      <td>2015-12-10 17:40:01</td>\n",
              "      <td>SKIPPACK</td>\n",
              "      <td>COLLEGEVILLE RD &amp; LYWISKI RD</td>\n",
              "      <td>1</td>\n",
              "    </tr>\n",
              "    <tr>\n",
              "      <th>8</th>\n",
              "      <td>40.289027</td>\n",
              "      <td>-75.399590</td>\n",
              "      <td>MAIN ST &amp; OLD SUMNEYTOWN PIKE;  LOWER SALFORD;...</td>\n",
              "      <td>19438.0</td>\n",
              "      <td>EMS: SYNCOPAL EPISODE</td>\n",
              "      <td>2015-12-10 17:40:01</td>\n",
              "      <td>LOWER SALFORD</td>\n",
              "      <td>MAIN ST &amp; OLD SUMNEYTOWN PIKE</td>\n",
              "      <td>1</td>\n",
              "    </tr>\n",
              "    <tr>\n",
              "      <th>9</th>\n",
              "      <td>40.102398</td>\n",
              "      <td>-75.291458</td>\n",
              "      <td>BLUEROUTE  &amp; RAMP I476 NB TO CHEMICAL RD; PLYM...</td>\n",
              "      <td>19462.0</td>\n",
              "      <td>Traffic: VEHICLE ACCIDENT -</td>\n",
              "      <td>2015-12-10 17:40:01</td>\n",
              "      <td>PLYMOUTH</td>\n",
              "      <td>BLUEROUTE  &amp; RAMP I476 NB TO CHEMICAL RD</td>\n",
              "      <td>1</td>\n",
              "    </tr>\n",
              "    <tr>\n",
              "      <th>10</th>\n",
              "      <td>40.231990</td>\n",
              "      <td>-75.251891</td>\n",
              "      <td>RT202 PKWY &amp; KNAPP RD; MONTGOMERY; 2015-12-10 ...</td>\n",
              "      <td>NaN</td>\n",
              "      <td>Traffic: VEHICLE ACCIDENT -</td>\n",
              "      <td>2015-12-10 17:40:01</td>\n",
              "      <td>MONTGOMERY</td>\n",
              "      <td>RT202 PKWY &amp; KNAPP RD</td>\n",
              "      <td>1</td>\n",
              "    </tr>\n",
              "    <tr>\n",
              "      <th>11</th>\n",
              "      <td>40.084161</td>\n",
              "      <td>-75.308386</td>\n",
              "      <td>BROOK RD &amp; COLWELL LN; PLYMOUTH; 2015-12-10 @ ...</td>\n",
              "      <td>19428.0</td>\n",
              "      <td>Traffic: VEHICLE ACCIDENT -</td>\n",
              "      <td>2015-12-10 17:40:02</td>\n",
              "      <td>PLYMOUTH</td>\n",
              "      <td>BROOK RD &amp; COLWELL LN</td>\n",
              "      <td>1</td>\n",
              "    </tr>\n",
              "    <tr>\n",
              "      <th>12</th>\n",
              "      <td>40.174131</td>\n",
              "      <td>-75.098491</td>\n",
              "      <td>BYBERRY AVE &amp; S WARMINSTER RD; UPPER MORELAND;...</td>\n",
              "      <td>19040.0</td>\n",
              "      <td>Traffic: VEHICLE ACCIDENT -</td>\n",
              "      <td>2015-12-10 17:40:02</td>\n",
              "      <td>UPPER MORELAND</td>\n",
              "      <td>BYBERRY AVE &amp; S WARMINSTER RD</td>\n",
              "      <td>1</td>\n",
              "    </tr>\n",
              "    <tr>\n",
              "      <th>13</th>\n",
              "      <td>40.062974</td>\n",
              "      <td>-75.135914</td>\n",
              "      <td>OLD YORK RD &amp; VALLEY RD; CHELTENHAM; 2015-12-1...</td>\n",
              "      <td>19027.0</td>\n",
              "      <td>Traffic: VEHICLE ACCIDENT -</td>\n",
              "      <td>2015-12-10 17:40:02</td>\n",
              "      <td>CHELTENHAM</td>\n",
              "      <td>OLD YORK RD &amp; VALLEY RD</td>\n",
              "      <td>1</td>\n",
              "    </tr>\n",
              "    <tr>\n",
              "      <th>14</th>\n",
              "      <td>40.097222</td>\n",
              "      <td>-75.376195</td>\n",
              "      <td>SCHUYLKILL EXPY &amp; CROTON RD UNDERPASS; UPPER M...</td>\n",
              "      <td>NaN</td>\n",
              "      <td>Traffic: VEHICLE ACCIDENT -</td>\n",
              "      <td>2015-12-10 17:40:02</td>\n",
              "      <td>UPPER MERION</td>\n",
              "      <td>SCHUYLKILL EXPY &amp; CROTON RD UNDERPASS</td>\n",
              "      <td>1</td>\n",
              "    </tr>\n",
              "    <tr>\n",
              "      <th>15</th>\n",
              "      <td>40.223778</td>\n",
              "      <td>-75.235399</td>\n",
              "      <td>STUMP RD &amp; WITCHWOOD DR; MONTGOMERY; 2015-12-1...</td>\n",
              "      <td>18936.0</td>\n",
              "      <td>Traffic: VEHICLE ACCIDENT -</td>\n",
              "      <td>2015-12-10 17:40:02</td>\n",
              "      <td>MONTGOMERY</td>\n",
              "      <td>STUMP RD &amp; WITCHWOOD DR</td>\n",
              "      <td>1</td>\n",
              "    </tr>\n",
              "    <tr>\n",
              "      <th>16</th>\n",
              "      <td>40.243258</td>\n",
              "      <td>-75.286552</td>\n",
              "      <td>SUSQUEHANNA AVE &amp; W MAIN ST;  LANSDALE; Statio...</td>\n",
              "      <td>19446.0</td>\n",
              "      <td>EMS: RESPIRATORY EMERGENCY</td>\n",
              "      <td>2015-12-10 17:46:01</td>\n",
              "      <td>LANSDALE</td>\n",
              "      <td>SUSQUEHANNA AVE &amp; W MAIN ST</td>\n",
              "      <td>1</td>\n",
              "    </tr>\n",
              "    <tr>\n",
              "      <th>17</th>\n",
              "      <td>40.312181</td>\n",
              "      <td>-75.574260</td>\n",
              "      <td>CHARLOTTE ST &amp; MILES RD;  NEW HANOVER; Station...</td>\n",
              "      <td>19525.0</td>\n",
              "      <td>EMS: DIZZINESS</td>\n",
              "      <td>2015-12-10 17:47:01</td>\n",
              "      <td>NEW HANOVER</td>\n",
              "      <td>CHARLOTTE ST &amp; MILES RD</td>\n",
              "      <td>1</td>\n",
              "    </tr>\n",
              "    <tr>\n",
              "      <th>18</th>\n",
              "      <td>40.114239</td>\n",
              "      <td>-75.338508</td>\n",
              "      <td>PENN ST &amp; ARCH ST;  NORRISTOWN; Station 308A; ...</td>\n",
              "      <td>19401.0</td>\n",
              "      <td>EMS: VEHICLE ACCIDENT</td>\n",
              "      <td>2015-12-10 17:47:01</td>\n",
              "      <td>NORRISTOWN</td>\n",
              "      <td>PENN ST &amp; ARCH ST</td>\n",
              "      <td>1</td>\n",
              "    </tr>\n",
              "    <tr>\n",
              "      <th>19</th>\n",
              "      <td>40.209337</td>\n",
              "      <td>-75.135266</td>\n",
              "      <td>COUNTY LINE RD &amp; WILLOW DR; HORSHAM; 2015-12-1...</td>\n",
              "      <td>18974.0</td>\n",
              "      <td>Traffic: DISABLED VEHICLE -</td>\n",
              "      <td>2015-12-10 17:47:02</td>\n",
              "      <td>HORSHAM</td>\n",
              "      <td>COUNTY LINE RD &amp; WILLOW DR</td>\n",
              "      <td>1</td>\n",
              "    </tr>\n",
              "  </tbody>\n",
              "</table>\n",
              "</div>"
            ],
            "text/plain": [
              "          lat        lng  ...                                      addr  e\n",
              "0   40.297876 -75.581294  ...                    REINDEER CT & DEAD END  1\n",
              "1   40.258061 -75.264680  ...                BRIAR PATH & WHITEMARSH LN  1\n",
              "2   40.121182 -75.351975  ...                                  HAWS AVE  1\n",
              "3   40.116153 -75.343513  ...                        AIRY ST & SWEDE ST  1\n",
              "4   40.251492 -75.603350  ...                  CHERRYWOOD CT & DEAD END  1\n",
              "5   40.253473 -75.283245  ...                     CANNON AVE & W 9TH ST  1\n",
              "6   40.182111 -75.127795  ...                  LAUREL AVE & OAKDALE AVE  1\n",
              "7   40.217286 -75.405182  ...              COLLEGEVILLE RD & LYWISKI RD  1\n",
              "8   40.289027 -75.399590  ...             MAIN ST & OLD SUMNEYTOWN PIKE  1\n",
              "9   40.102398 -75.291458  ...  BLUEROUTE  & RAMP I476 NB TO CHEMICAL RD  1\n",
              "10  40.231990 -75.251891  ...                     RT202 PKWY & KNAPP RD  1\n",
              "11  40.084161 -75.308386  ...                     BROOK RD & COLWELL LN  1\n",
              "12  40.174131 -75.098491  ...             BYBERRY AVE & S WARMINSTER RD  1\n",
              "13  40.062974 -75.135914  ...                   OLD YORK RD & VALLEY RD  1\n",
              "14  40.097222 -75.376195  ...     SCHUYLKILL EXPY & CROTON RD UNDERPASS  1\n",
              "15  40.223778 -75.235399  ...                   STUMP RD & WITCHWOOD DR  1\n",
              "16  40.243258 -75.286552  ...               SUSQUEHANNA AVE & W MAIN ST  1\n",
              "17  40.312181 -75.574260  ...                   CHARLOTTE ST & MILES RD  1\n",
              "18  40.114239 -75.338508  ...                         PENN ST & ARCH ST  1\n",
              "19  40.209337 -75.135266  ...                COUNTY LINE RD & WILLOW DR  1\n",
              "\n",
              "[20 rows x 9 columns]"
            ]
          },
          "metadata": {
            "tags": []
          },
          "execution_count": 10
        }
      ]
    },
    {
      "cell_type": "markdown",
      "metadata": {
        "id": "Ak7Ml3wuHXQz"
      },
      "source": [
        "Question 1"
      ]
    },
    {
      "cell_type": "code",
      "metadata": {
        "colab": {
          "base_uri": "https://localhost:8080/"
        },
        "id": "31Xc7-8OF_t2",
        "outputId": "10952330-d5f4-445b-c324-91b33f6010e7"
      },
      "source": [
        "df['title'].value_counts().head()"
      ],
      "execution_count": null,
      "outputs": [
        {
          "output_type": "execute_result",
          "data": {
            "text/plain": [
              "Traffic: VEHICLE ACCIDENT -    23066\n",
              "Traffic: DISABLED VEHICLE -     7702\n",
              "Fire: FIRE ALARM                5496\n",
              "EMS: RESPIRATORY EMERGENCY      5112\n",
              "EMS: CARDIAC EMERGENCY          5012\n",
              "Name: title, dtype: int64"
            ]
          },
          "metadata": {
            "tags": []
          },
          "execution_count": 17
        }
      ]
    },
    {
      "cell_type": "markdown",
      "metadata": {
        "id": "DH2cNV2ZH88I"
      },
      "source": [
        "Question 2: How many emergency calls did each zip code make?\r\n"
      ]
    },
    {
      "cell_type": "code",
      "metadata": {
        "colab": {
          "base_uri": "https://localhost:8080/"
        },
        "id": "eCj212XOHVie",
        "outputId": "b4bc9156-9ef0-4886-f098-ef5fab7a3648"
      },
      "source": [
        "# df['zip'].dropna().unique() would remove the NaN zip codes if using the unique method\r\n",
        "\r\n",
        "# Since each row is an instance of an emergency call, we merely need to count the number\r\n",
        "# of occurrences of each zip code.\r\n",
        "zip_code_calls = data['zip'].value_counts().to_dict()\r\n",
        "\r\n",
        "for key,value in zip_code_calls.items():\r\n",
        "  print('Zip code', int(key), 'made', value, 'emergency calls between Dec. 2015 and Aug. 2016.')"
      ],
      "execution_count": 20,
      "outputs": [
        {
          "output_type": "stream",
          "text": [
            "Zip code 19401 made 6979 emergency calls between Dec. 2015 and Aug. 2016.\n",
            "Zip code 19464 made 6643 emergency calls between Dec. 2015 and Aug. 2016.\n",
            "Zip code 19403 made 4854 emergency calls between Dec. 2015 and Aug. 2016.\n",
            "Zip code 19446 made 4748 emergency calls between Dec. 2015 and Aug. 2016.\n",
            "Zip code 19406 made 3174 emergency calls between Dec. 2015 and Aug. 2016.\n",
            "Zip code 19002 made 3050 emergency calls between Dec. 2015 and Aug. 2016.\n",
            "Zip code 19468 made 2990 emergency calls between Dec. 2015 and Aug. 2016.\n",
            "Zip code 19454 made 2781 emergency calls between Dec. 2015 and Aug. 2016.\n",
            "Zip code 19090 made 2635 emergency calls between Dec. 2015 and Aug. 2016.\n",
            "Zip code 19038 made 2578 emergency calls between Dec. 2015 and Aug. 2016.\n",
            "Zip code 19046 made 2564 emergency calls between Dec. 2015 and Aug. 2016.\n",
            "Zip code 19426 made 2461 emergency calls between Dec. 2015 and Aug. 2016.\n",
            "Zip code 19428 made 2296 emergency calls between Dec. 2015 and Aug. 2016.\n",
            "Zip code 19006 made 2256 emergency calls between Dec. 2015 and Aug. 2016.\n",
            "Zip code 19462 made 2078 emergency calls between Dec. 2015 and Aug. 2016.\n",
            "Zip code 19040 made 2043 emergency calls between Dec. 2015 and Aug. 2016.\n",
            "Zip code 19438 made 1990 emergency calls between Dec. 2015 and Aug. 2016.\n",
            "Zip code 19422 made 1963 emergency calls between Dec. 2015 and Aug. 2016.\n",
            "Zip code 19027 made 1818 emergency calls between Dec. 2015 and Aug. 2016.\n",
            "Zip code 19044 made 1595 emergency calls between Dec. 2015 and Aug. 2016.\n",
            "Zip code 19001 made 1514 emergency calls between Dec. 2015 and Aug. 2016.\n",
            "Zip code 19010 made 1316 emergency calls between Dec. 2015 and Aug. 2016.\n",
            "Zip code 18964 made 1287 emergency calls between Dec. 2015 and Aug. 2016.\n",
            "Zip code 19004 made 1280 emergency calls between Dec. 2015 and Aug. 2016.\n",
            "Zip code 19440 made 1190 emergency calls between Dec. 2015 and Aug. 2016.\n",
            "Zip code 19096 made 1115 emergency calls between Dec. 2015 and Aug. 2016.\n",
            "Zip code 19003 made 1094 emergency calls between Dec. 2015 and Aug. 2016.\n",
            "Zip code 19095 made 1023 emergency calls between Dec. 2015 and Aug. 2016.\n",
            "Zip code 19473 made 1012 emergency calls between Dec. 2015 and Aug. 2016.\n",
            "Zip code 19444 made 1008 emergency calls between Dec. 2015 and Aug. 2016.\n",
            "Zip code 19525 made 965 emergency calls between Dec. 2015 and Aug. 2016.\n",
            "Zip code 19034 made 796 emergency calls between Dec. 2015 and Aug. 2016.\n",
            "Zip code 18073 made 736 emergency calls between Dec. 2015 and Aug. 2016.\n",
            "Zip code 19072 made 728 emergency calls between Dec. 2015 and Aug. 2016.\n",
            "Zip code 18969 made 672 emergency calls between Dec. 2015 and Aug. 2016.\n",
            "Zip code 19012 made 593 emergency calls between Dec. 2015 and Aug. 2016.\n",
            "Zip code 19031 made 566 emergency calls between Dec. 2015 and Aug. 2016.\n",
            "Zip code 19025 made 493 emergency calls between Dec. 2015 and Aug. 2016.\n",
            "Zip code 19035 made 481 emergency calls between Dec. 2015 and Aug. 2016.\n",
            "Zip code 19465 made 458 emergency calls between Dec. 2015 and Aug. 2016.\n",
            "Zip code 19066 made 451 emergency calls between Dec. 2015 and Aug. 2016.\n",
            "Zip code 19041 made 436 emergency calls between Dec. 2015 and Aug. 2016.\n",
            "Zip code 18074 made 435 emergency calls between Dec. 2015 and Aug. 2016.\n",
            "Zip code 19405 made 428 emergency calls between Dec. 2015 and Aug. 2016.\n",
            "Zip code 19460 made 427 emergency calls between Dec. 2015 and Aug. 2016.\n",
            "Zip code 18041 made 414 emergency calls between Dec. 2015 and Aug. 2016.\n",
            "Zip code 19087 made 344 emergency calls between Dec. 2015 and Aug. 2016.\n",
            "Zip code 18054 made 326 emergency calls between Dec. 2015 and Aug. 2016.\n",
            "Zip code 18076 made 306 emergency calls between Dec. 2015 and Aug. 2016.\n",
            "Zip code 19085 made 304 emergency calls between Dec. 2015 and Aug. 2016.\n",
            "Zip code 19075 made 302 emergency calls between Dec. 2015 and Aug. 2016.\n",
            "Zip code 19150 made 288 emergency calls between Dec. 2015 and Aug. 2016.\n",
            "Zip code 19151 made 287 emergency calls between Dec. 2015 and Aug. 2016.\n",
            "Zip code 18936 made 254 emergency calls between Dec. 2015 and Aug. 2016.\n",
            "Zip code 19512 made 220 emergency calls between Dec. 2015 and Aug. 2016.\n",
            "Zip code 18974 made 215 emergency calls between Dec. 2015 and Aug. 2016.\n",
            "Zip code 19131 made 137 emergency calls between Dec. 2015 and Aug. 2016.\n",
            "Zip code 19128 made 122 emergency calls between Dec. 2015 and Aug. 2016.\n",
            "Zip code 18915 made 118 emergency calls between Dec. 2015 and Aug. 2016.\n",
            "Zip code 19453 made 101 emergency calls between Dec. 2015 and Aug. 2016.\n",
            "Zip code 19504 made 101 emergency calls between Dec. 2015 and Aug. 2016.\n",
            "Zip code 19475 made 73 emergency calls between Dec. 2015 and Aug. 2016.\n",
            "Zip code 18914 made 66 emergency calls between Dec. 2015 and Aug. 2016.\n",
            "Zip code 19518 made 57 emergency calls between Dec. 2015 and Aug. 2016.\n",
            "Zip code 18070 made 54 emergency calls between Dec. 2015 and Aug. 2016.\n",
            "Zip code 19118 made 51 emergency calls between Dec. 2015 and Aug. 2016.\n",
            "Zip code 19009 made 49 emergency calls between Dec. 2015 and Aug. 2016.\n",
            "Zip code 18976 made 45 emergency calls between Dec. 2015 and Aug. 2016.\n",
            "Zip code 18966 made 44 emergency calls between Dec. 2015 and Aug. 2016.\n",
            "Zip code 19492 made 40 emergency calls between Dec. 2015 and Aug. 2016.\n",
            "Zip code 19111 made 36 emergency calls between Dec. 2015 and Aug. 2016.\n",
            "Zip code 19435 made 35 emergency calls between Dec. 2015 and Aug. 2016.\n",
            "Zip code 18960 made 34 emergency calls between Dec. 2015 and Aug. 2016.\n",
            "Zip code 19126 made 32 emergency calls between Dec. 2015 and Aug. 2016.\n",
            "Zip code 19505 made 27 emergency calls between Dec. 2015 and Aug. 2016.\n",
            "Zip code 19120 made 26 emergency calls between Dec. 2015 and Aug. 2016.\n",
            "Zip code 19083 made 20 emergency calls between Dec. 2015 and Aug. 2016.\n",
            "Zip code 18092 made 14 emergency calls between Dec. 2015 and Aug. 2016.\n",
            "Zip code 18932 made 11 emergency calls between Dec. 2015 and Aug. 2016.\n",
            "Zip code 18951 made 10 emergency calls between Dec. 2015 and Aug. 2016.\n",
            "Zip code 19477 made 10 emergency calls between Dec. 2015 and Aug. 2016.\n",
            "Zip code 19115 made 8 emergency calls between Dec. 2015 and Aug. 2016.\n",
            "Zip code 19472 made 6 emergency calls between Dec. 2015 and Aug. 2016.\n",
            "Zip code 18056 made 6 emergency calls between Dec. 2015 and Aug. 2016.\n",
            "Zip code 19053 made 6 emergency calls between Dec. 2015 and Aug. 2016.\n",
            "Zip code 19503 made 4 emergency calls between Dec. 2015 and Aug. 2016.\n",
            "Zip code 19116 made 4 emergency calls between Dec. 2015 and Aug. 2016.\n",
            "Zip code 19423 made 4 emergency calls between Dec. 2015 and Aug. 2016.\n",
            "Zip code 18103 made 4 emergency calls between Dec. 2015 and Aug. 2016.\n",
            "Zip code 19082 made 3 emergency calls between Dec. 2015 and Aug. 2016.\n",
            "Zip code 19355 made 2 emergency calls between Dec. 2015 and Aug. 2016.\n",
            "Zip code 18927 made 2 emergency calls between Dec. 2015 and Aug. 2016.\n",
            "Zip code 19129 made 2 emergency calls between Dec. 2015 and Aug. 2016.\n",
            "Zip code 19138 made 2 emergency calls between Dec. 2015 and Aug. 2016.\n",
            "Zip code 18036 made 2 emergency calls between Dec. 2015 and Aug. 2016.\n",
            "Zip code 36107 made 1 emergency calls between Dec. 2015 and Aug. 2016.\n",
            "Zip code 19490 made 1 emergency calls between Dec. 2015 and Aug. 2016.\n",
            "Zip code 19127 made 1 emergency calls between Dec. 2015 and Aug. 2016.\n",
            "Zip code 19107 made 1 emergency calls between Dec. 2015 and Aug. 2016.\n",
            "Zip code 77316 made 1 emergency calls between Dec. 2015 and Aug. 2016.\n",
            "Zip code 19457 made 1 emergency calls between Dec. 2015 and Aug. 2016.\n",
            "Zip code 19139 made 1 emergency calls between Dec. 2015 and Aug. 2016.\n",
            "Zip code 19119 made 1 emergency calls between Dec. 2015 and Aug. 2016.\n",
            "Zip code 17752 made 1 emergency calls between Dec. 2015 and Aug. 2016.\n"
          ],
          "name": "stdout"
        }
      ]
    },
    {
      "cell_type": "markdown",
      "metadata": {
        "id": "_BebqBMPH-mm"
      },
      "source": [
        "Question 3:  What township made the least 911 emergency calls?\r\n",
        "\r\n"
      ]
    },
    {
      "cell_type": "code",
      "metadata": {
        "colab": {
          "base_uri": "https://localhost:8080/"
        },
        "id": "wgbiCujKH_G9",
        "outputId": "587c8684-5ef8-4c44-848b-c1f4c7703c4b"
      },
      "source": [
        "data['twp'].value_counts().tail(1)"
      ],
      "execution_count": 24,
      "outputs": [
        {
          "output_type": "execute_result",
          "data": {
            "text/plain": [
              "LEHIGH COUNTY    30\n",
              "Name: twp, dtype: int64"
            ]
          },
          "metadata": {
            "tags": []
          },
          "execution_count": 24
        }
      ]
    },
    {
      "cell_type": "markdown",
      "metadata": {
        "id": "Brr1mU8KIAOa"
      },
      "source": [
        "Question 4: How many addresses have \"Dead end\" in them?"
      ]
    },
    {
      "cell_type": "code",
      "metadata": {
        "colab": {
          "base_uri": "https://localhost:8080/"
        },
        "id": "ltoyKSttIBCt",
        "outputId": "ffd22521-79ca-41f4-8381-ae9b0d92ae83"
      },
      "source": [
        "dead_ends = data[data['addr'].str.contains('DEAD END', na=False)]['addr'].count()\r\n",
        "print('There are', dead_ends, 'addresses with \"DEAD END\" in them.')"
      ],
      "execution_count": 18,
      "outputs": [
        {
          "output_type": "stream",
          "text": [
            "There are 1390 addresses with \"DEAD END\" in them.\n"
          ],
          "name": "stdout"
        }
      ]
    },
    {
      "cell_type": "markdown",
      "metadata": {
        "id": "jKyguWboIBen"
      },
      "source": [
        "Question 5:  How many 911 emergency calls were made in each year?"
      ]
    },
    {
      "cell_type": "code",
      "metadata": {
        "id": "0-XEBq-LX8C1",
        "colab": {
          "base_uri": "https://localhost:8080/"
        },
        "outputId": "14536d2c-36ca-4b07-a178-3ac10dbfd6d0"
      },
      "source": [
        "calls_2015 = data[data['timeStamp'].str.contains('2015', na=False)]['timeStamp'].count()\r\n",
        "calls_2016 = data[data['timeStamp'].str.contains('2016', na=False)]['timeStamp'].count()\r\n",
        "\r\n",
        "print('There were', calls_2015, 'emergency calls made in 2015.')\r\n",
        "print('There were', calls_2016, 'emergency calls made in 2016.')\r\n",
        "\r\n",
        "# Checking that the number matches with the count given by the describe() method\r\n",
        "print(calls_2015 + calls_2016, 'were made in total.')"
      ],
      "execution_count": 17,
      "outputs": [
        {
          "output_type": "stream",
          "text": [
            "There were 7969 emergency calls made in 2015.\n",
            "There were 91523 emergency calls made in 2016.\n",
            "99492 were made in total.\n"
          ],
          "name": "stdout"
        }
      ]
    },
    {
      "cell_type": "code",
      "metadata": {
        "id": "DKw0R08mrSFR"
      },
      "source": [
        ""
      ],
      "execution_count": null,
      "outputs": []
    }
  ]
}