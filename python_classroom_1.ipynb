{
  "nbformat": 4,
  "nbformat_minor": 0,
  "metadata": {
    "colab": {
      "name": "python_classroom_1.ipynb",
      "provenance": [],
      "collapsed_sections": [],
      "authorship_tag": "ABX9TyMAMnwj5AkNx7C3l3C+JcHd",
      "include_colab_link": true
    },
    "kernelspec": {
      "name": "python3",
      "display_name": "Python 3"
    }
  },
  "cells": [
    {
      "cell_type": "markdown",
      "metadata": {
        "id": "view-in-github",
        "colab_type": "text"
      },
      "source": [
        "<a href=\"https://colab.research.google.com/github/peekachuchu/dsmc/blob/master/python_classroom_1.ipynb\" target=\"_parent\"><img src=\"https://colab.research.google.com/assets/colab-badge.svg\" alt=\"Open In Colab\"/></a>"
      ]
    },
    {
      "cell_type": "markdown",
      "metadata": {
        "id": "z21-xw2UML9T"
      },
      "source": [
        "Create five variables"
      ]
    },
    {
      "cell_type": "code",
      "metadata": {
        "id": "SvEjVTpfLsAc"
      },
      "source": [
        "first_name = 'Eric'\r\n",
        "firstName = 'Amy'\r\n",
        "FirstName = 'Alex'\r\n",
        "FIRSTNAME = 'Benjamin'\r\n",
        "\r\n",
        "age = '20'\r\n",
        "college = 'Baruch college'\r\n",
        "greeting_message = 'hello world!'"
      ],
      "execution_count": null,
      "outputs": []
    },
    {
      "cell_type": "code",
      "metadata": {
        "colab": {
          "base_uri": "https://localhost:8080/"
        },
        "id": "C_fBTeh4MGe6",
        "outputId": "fc85a6d8-18fa-4446-8859-4a446a4db574"
      },
      "source": [
        "print(first_name)\r\n",
        "print(firstName)\r\n",
        "print(FirstName)\r\n",
        "print(FIRSTNAME)"
      ],
      "execution_count": null,
      "outputs": [
        {
          "output_type": "stream",
          "text": [
            "Eric\n",
            "Amy\n",
            "Alex\n",
            "Benjamin\n"
          ],
          "name": "stdout"
        }
      ]
    },
    {
      "cell_type": "markdown",
      "metadata": {
        "id": "QmKVpQYhNxmm"
      },
      "source": [
        "Create 10 Last Name Variables"
      ]
    },
    {
      "cell_type": "code",
      "metadata": {
        "id": "bGIvoyk2N1fR"
      },
      "source": [
        "last_name1 = 'Chu'\r\n",
        "last_name2 = 'Chung'\r\n",
        "last_name3 = 'Ji'\r\n",
        "last_name4 = 'Jia'\r\n",
        "last_name5 = 'Jiang'\r\n",
        "last_name6 = \"Cha\"\r\n",
        "last_name7 = \"Chal\"\r\n",
        "last_name8 = \"Chalc\"\r\n",
        "last_name9 = \"Chalco\"\r\n",
        "last_name10 = \"Chalcom\""
      ],
      "execution_count": null,
      "outputs": []
    },
    {
      "cell_type": "code",
      "metadata": {
        "colab": {
          "base_uri": "https://localhost:8080/"
        },
        "id": "SYUKiDQaN2Eh",
        "outputId": "845419fa-12aa-4a6d-90dc-fe688a359884"
      },
      "source": [
        "print(last_name1)\r\n",
        "print(last_name2)\r\n",
        "print(last_name3)\r\n",
        "print(last_name4)\r\n",
        "print(last_name5)\r\n",
        "print(last_name6)\r\n",
        "print(last_name7)\r\n",
        "print(last_name8)\r\n",
        "print(last_name9)\r\n",
        "print(last_name10)"
      ],
      "execution_count": null,
      "outputs": [
        {
          "output_type": "stream",
          "text": [
            "Chu\n",
            "Chung\n",
            "Ji\n",
            "Jia\n",
            "Jiang\n",
            "Cha\n",
            "Chal\n",
            "Chalc\n",
            "Chalco\n",
            "Chalcom\n"
          ],
          "name": "stdout"
        }
      ]
    },
    {
      "cell_type": "markdown",
      "metadata": {
        "id": "dKl1RP5KYHjZ"
      },
      "source": [
        "Data Types"
      ]
    },
    {
      "cell_type": "code",
      "metadata": {
        "id": "3pYUWkplQhAj"
      },
      "source": [
        "num = 12.90"
      ],
      "execution_count": null,
      "outputs": []
    },
    {
      "cell_type": "code",
      "metadata": {
        "colab": {
          "base_uri": "https://localhost:8080/"
        },
        "id": "bk1q8neoYLBe",
        "outputId": "5948d4c6-f7fc-4f2f-d9ce-bb28754139ff"
      },
      "source": [
        "print(first_name)"
      ],
      "execution_count": null,
      "outputs": [
        {
          "output_type": "stream",
          "text": [
            "Eric\n"
          ],
          "name": "stdout"
        }
      ]
    },
    {
      "cell_type": "code",
      "metadata": {
        "id": "lMhrgBLQYdZF"
      },
      "source": [
        "game = True"
      ],
      "execution_count": null,
      "outputs": []
    },
    {
      "cell_type": "code",
      "metadata": {
        "colab": {
          "base_uri": "https://localhost:8080/"
        },
        "id": "g8UVFqCnY5oX",
        "outputId": "66b92449-5ba8-4de9-9628-983db32d966e"
      },
      "source": [
        "type(num)"
      ],
      "execution_count": null,
      "outputs": [
        {
          "output_type": "execute_result",
          "data": {
            "text/plain": [
              "float"
            ]
          },
          "metadata": {
            "tags": []
          },
          "execution_count": 33
        }
      ]
    },
    {
      "cell_type": "code",
      "metadata": {
        "colab": {
          "base_uri": "https://localhost:8080/"
        },
        "id": "7hP_x6xcZBBV",
        "outputId": "a86867c9-a73f-4e45-a770-7cf883604254"
      },
      "source": [
        "type(game)"
      ],
      "execution_count": null,
      "outputs": [
        {
          "output_type": "execute_result",
          "data": {
            "text/plain": [
              "bool"
            ]
          },
          "metadata": {
            "tags": []
          },
          "execution_count": 34
        }
      ]
    },
    {
      "cell_type": "code",
      "metadata": {
        "id": "xubvMlKDZRtO"
      },
      "source": [
        "list = ['name', 'time', 'carrots']"
      ],
      "execution_count": null,
      "outputs": []
    },
    {
      "cell_type": "code",
      "metadata": {
        "colab": {
          "base_uri": "https://localhost:8080/"
        },
        "id": "nqzoyPsNZcQW",
        "outputId": "3d1a3a4f-d678-4453-dc67-1821e39c50d6"
      },
      "source": [
        "list"
      ],
      "execution_count": null,
      "outputs": [
        {
          "output_type": "execute_result",
          "data": {
            "text/plain": [
              "['name', 'time', 'carrots']"
            ]
          },
          "metadata": {
            "tags": []
          },
          "execution_count": 36
        }
      ]
    },
    {
      "cell_type": "code",
      "metadata": {
        "colab": {
          "base_uri": "https://localhost:8080/"
        },
        "id": "34FbuH3HfuhV",
        "outputId": "e036cedf-f4bd-4006-cf78-7a344f59c60c"
      },
      "source": [
        "import math\r\n",
        "math.pi"
      ],
      "execution_count": 50,
      "outputs": [
        {
          "output_type": "execute_result",
          "data": {
            "text/plain": [
              "3.141592653589793"
            ]
          },
          "metadata": {
            "tags": []
          },
          "execution_count": 50
        }
      ]
    },
    {
      "cell_type": "markdown",
      "metadata": {
        "id": "EblooWGkZj9T"
      },
      "source": [
        "Create 10 Lists, 10 Bool and 10 Floats"
      ]
    },
    {
      "cell_type": "code",
      "metadata": {
        "id": "EIzxMvBqZnfd"
      },
      "source": [
        "list1 = ['string 1', 'string 2', 'string 3']\r\n",
        "list2 = ['string 4', 'string 5', 'string 6']\r\n",
        "list3 = ['string 7', 'string 8', 'string 9']\r\n",
        "list4 = ['string 10', 'string 11', 'string 12']\r\n",
        "list5 = ['string 13', 'string 14', 'string 15']\r\n",
        "list6 = ['string 16', 'string 17', 'string 18']\r\n",
        "list7 = ['string 19', 'string 20', 'string 21']\r\n",
        "list8 = ['string 22', 'string 23', 'string 24']\r\n",
        "list9 = ['string 25', 'string 26', 'string 27']\r\n",
        "list10 = ['string 28', 'string 29', 'string 30']"
      ],
      "execution_count": null,
      "outputs": []
    },
    {
      "cell_type": "code",
      "metadata": {
        "id": "JUA1LmlaaTro"
      },
      "source": [
        "bool1 = True\r\n",
        "bool2 = True\r\n",
        "bool3 = True\r\n",
        "bool4 = True\r\n",
        "bool5 = True\r\n",
        "bool6 = True\r\n",
        "bool7 = True\r\n",
        "bool8 = True\r\n",
        "bool9 = True\r\n",
        "bool10 = True"
      ],
      "execution_count": null,
      "outputs": []
    },
    {
      "cell_type": "code",
      "metadata": {
        "id": "U4kq9pi1ahI2"
      },
      "source": [
        "float1 = 1.23\r\n",
        "float2 = 2.34\r\n",
        "float3 = 3.45\r\n",
        "float4 = 5.67\r\n",
        "float5 = 6.78\r\n",
        "float6 = 7.89\r\n",
        "float7 = 9.10\r\n",
        "float8 = 0.12\r\n",
        "float9 = 0.21\r\n",
        "float10 = 0.32"
      ],
      "execution_count": null,
      "outputs": []
    },
    {
      "cell_type": "markdown",
      "metadata": {
        "id": "jOnQL4Lcivzl"
      },
      "source": [
        "Dictionaries "
      ]
    },
    {
      "cell_type": "code",
      "metadata": {
        "id": "KXKQ9n6sbMmP"
      },
      "source": [
        "myDict = {'key':'value', 'key2':'value2'} # can have as many pairs as you want"
      ],
      "execution_count": 55,
      "outputs": []
    },
    {
      "cell_type": "code",
      "metadata": {
        "colab": {
          "base_uri": "https://localhost:8080/"
        },
        "id": "TTJM7CFAiiyk",
        "outputId": "2f371baf-b05a-4382-98d8-0664b1f33ce0"
      },
      "source": [
        "myDict"
      ],
      "execution_count": 54,
      "outputs": [
        {
          "output_type": "execute_result",
          "data": {
            "text/plain": [
              "{'key': 'value', 'key2': 'value2'}"
            ]
          },
          "metadata": {
            "tags": []
          },
          "execution_count": 54
        }
      ]
    },
    {
      "cell_type": "markdown",
      "metadata": {
        "id": "lJo-DMJpixLb"
      },
      "source": [
        "Create:\r\n",
        "dict1 = 10 foods\r\n",
        "dict2 = 10 peoples names\r\n",
        "dict3 = 5 sports players"
      ]
    },
    {
      "cell_type": "code",
      "metadata": {
        "id": "E9U1TkpRi7ZA"
      },
      "source": [
        "dict1 = {'food_1': 'apple', 'food_2': 'ice cream', 'food_3':'banana','food_4':'yogurt','food_5':'orange','food_6':'cucumber','food_7':'burger','food_8':'sandwich','food_9':'dumpling','food_10':'wonton'}"
      ],
      "execution_count": 71,
      "outputs": []
    },
    {
      "cell_type": "code",
      "metadata": {
        "id": "4q7fib08jvQZ"
      },
      "source": [
        "dict2 = {'name_1':'eric','name_2':'amy','name_3':'alex','name_4':'edison', 'name_5':'mike', 'name_6':'jose', 'name_7':'amiyah', 'name_8':'andy', 'name_9': 'mindy', 'name_10':'wasam'}"
      ],
      "execution_count": 70,
      "outputs": []
    },
    {
      "cell_type": "code",
      "metadata": {
        "id": "xBou3ihkkTQB"
      },
      "source": [
        "dict3 = {'player1':'lebron james', 'player2':'kobe bryant', 'player3':'michael jordan', 'player4':'michael phelps', 'player5':'michelle kwan'}"
      ],
      "execution_count": 69,
      "outputs": []
    },
    {
      "cell_type": "code",
      "metadata": {
        "colab": {
          "base_uri": "https://localhost:8080/"
        },
        "id": "Y_tVcBD0k7Qk",
        "outputId": "03652346-38e0-44db-cebc-999a1890d18a"
      },
      "source": [
        "dict1"
      ],
      "execution_count": 72,
      "outputs": [
        {
          "output_type": "execute_result",
          "data": {
            "text/plain": [
              "{'food_1': 'apple',\n",
              " 'food_10': 'wonton',\n",
              " 'food_2': 'ice cream',\n",
              " 'food_3': 'banana',\n",
              " 'food_4': 'yogurt',\n",
              " 'food_5': 'orange',\n",
              " 'food_6': 'cucumber',\n",
              " 'food_7': 'burger',\n",
              " 'food_8': 'sandwich',\n",
              " 'food_9': 'dumpling'}"
            ]
          },
          "metadata": {
            "tags": []
          },
          "execution_count": 72
        }
      ]
    },
    {
      "cell_type": "code",
      "metadata": {
        "colab": {
          "base_uri": "https://localhost:8080/"
        },
        "id": "YWYBxrxxk-DS",
        "outputId": "8c5b109c-7d66-41c4-9d35-28ef256f5c75"
      },
      "source": [
        "dict2"
      ],
      "execution_count": 73,
      "outputs": [
        {
          "output_type": "execute_result",
          "data": {
            "text/plain": [
              "{'name_1': 'eric',\n",
              " 'name_10': 'wasam',\n",
              " 'name_2': 'amy',\n",
              " 'name_3': 'alex',\n",
              " 'name_4': 'edison',\n",
              " 'name_5': 'mike',\n",
              " 'name_6': 'jose',\n",
              " 'name_7': 'amiyah',\n",
              " 'name_8': 'andy',\n",
              " 'name_9': 'mindy'}"
            ]
          },
          "metadata": {
            "tags": []
          },
          "execution_count": 73
        }
      ]
    },
    {
      "cell_type": "code",
      "metadata": {
        "colab": {
          "base_uri": "https://localhost:8080/"
        },
        "id": "qYhx_liMk-dK",
        "outputId": "300a9fef-e7b4-441e-dcbc-15cb633bceb5"
      },
      "source": [
        "dict3"
      ],
      "execution_count": 74,
      "outputs": [
        {
          "output_type": "execute_result",
          "data": {
            "text/plain": [
              "{'player1': 'lebron james',\n",
              " 'player2': 'kobe bryant',\n",
              " 'player3': 'michael jordan',\n",
              " 'player4': 'michael phelps',\n",
              " 'player5': 'michelle kwan'}"
            ]
          },
          "metadata": {
            "tags": []
          },
          "execution_count": 74
        }
      ]
    },
    {
      "cell_type": "code",
      "metadata": {
        "id": "5RDj9Xdqk_Tr"
      },
      "source": [
        ""
      ],
      "execution_count": null,
      "outputs": []
    }
  ]
}